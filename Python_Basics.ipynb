{
  "nbformat": 4,
  "nbformat_minor": 0,
  "metadata": {
    "colab": {
      "name": "Python_Basics.ipynb",
      "provenance": [],
      "authorship_tag": "ABX9TyPkhTCJsPGfUCOWLRkwgacR",
      "include_colab_link": true
    },
    "kernelspec": {
      "name": "python3",
      "display_name": "Python 3"
    },
    "language_info": {
      "name": "python"
    }
  },
  "cells": [
    {
      "cell_type": "markdown",
      "metadata": {
        "id": "view-in-github",
        "colab_type": "text"
      },
      "source": [
        "<a href=\"https://colab.research.google.com/github/gokila97/Python_Basics/blob/main/Python_Basics.ipynb\" target=\"_parent\"><img src=\"https://colab.research.google.com/assets/colab-badge.svg\" alt=\"Open In Colab\"/></a>"
      ]
    },
    {
      "cell_type": "markdown",
      "source": [
        "**Python**"
      ],
      "metadata": {
        "id": "hy_yET6tucFr"
      }
    },
    {
      "cell_type": "code",
      "source": [
        "s=input()\n",
        "x=0\n",
        "for i in range(len(s)):\n",
        "    x=x+(int(s[i])**i)\n",
        "print(x)"
      ],
      "metadata": {
        "colab": {
          "base_uri": "https://localhost:8080/"
        },
        "id": "lB8YSZZzG1n2",
        "outputId": "ba5268f6-42b1-4316-b641-8c3a2e6a3518"
      },
      "execution_count": null,
      "outputs": [
        {
          "output_type": "stream",
          "name": "stdout",
          "text": [
            "100\n",
            "1\n"
          ]
        }
      ]
    },
    {
      "cell_type": "markdown",
      "source": [
        "General purpose high level programming Language,\n",
        "\n",
        "Guido Van Rossam\n",
        "\n",
        "1991 - python 2\n",
        "\n",
        "Python3\n",
        "\n",
        "Statically Typed programming\n",
        "\n",
        "Dynamically Typed programming\n"
      ],
      "metadata": {
        "id": "hinUbDTHugKM"
      }
    },
    {
      "cell_type": "markdown",
      "source": [
        "Paradigm - Idea:\n",
        "Multiparadigm:\n",
        "\n",
        "OOP\n",
        "Functional\n",
        "Reflective\n",
        "procedural\n",
        "\n",
        "2000 - python 2\n",
        "\n",
        "2008 - python 3\n"
      ],
      "metadata": {
        "id": "tK2pdMkHvfEd"
      }
    },
    {
      "cell_type": "markdown",
      "source": [
        "Interpreted:\n",
        "\n",
        "API\n",
        "\n",
        "Web Application - JAVA / PHP - Wordpress / Flash DJango\n",
        "\n",
        "Mobile Application - Java / Objective c\n",
        "\n",
        "AI/ML/DS - Python/ Java / Scala\n",
        "\n",
        "Ruby "
      ],
      "metadata": {
        "id": "zVJhYrN_wtZI"
      }
    },
    {
      "cell_type": "markdown",
      "source": [
        "Interpreted:\n",
        "\n",
        "Community Driven:\n",
        "\n",
        "Python- Multiparadigm\n",
        "\n",
        "Java Script - OOP,FP,POP,RP"
      ],
      "metadata": {
        "id": "u-twmtnjxhX0"
      }
    },
    {
      "cell_type": "markdown",
      "source": [
        "Interpreted:\n",
        "\n",
        "Line by line translation:\n",
        "\n",
        "Python code - 0, 1s - interpreter / Compiler\n",
        "\n",
        "Compiler - Translate\n",
        "\n",
        "interpreter - Line by line Translation\n",
        "\n",
        "Mobile Application Development - Performance\n",
        "\n",
        "Java - two levels of Translation:\n",
        "Compiler- JIT Compiler\n"
      ],
      "metadata": {
        "id": "DebI_s2kx8Lu"
      }
    },
    {
      "cell_type": "markdown",
      "source": [
        "Web Application\n",
        "Mobile Application\n",
        "Games\n",
        "DB\n",
        "Network Programming\n",
        "DS / ML / AI\n",
        "Internet of things\n"
      ],
      "metadata": {
        "id": "0eMn2FS0DyE2"
      }
    },
    {
      "cell_type": "markdown",
      "source": [
        "Simple\n",
        "\n",
        "Open source and free\n",
        "\n",
        "High Level Language\n",
        "\n",
        "Platform independent Linux/ Windows \n",
        "\n",
        "Python Virtual Machine\n",
        "\n",
        "Potability:\n",
        "\n",
        "Dynamically Typed\n",
        "\n",
        "Data Type\n",
        "No need of explicit datatypes in python.\n",
        "\n",
        "Multiparadigm\n",
        "\n",
        "Libraries\n",
        "\n"
      ],
      "metadata": {
        "id": "wCxoRpi-ETfQ"
      }
    },
    {
      "cell_type": "code",
      "source": [
        "#import math\n",
        "\n",
        "import math \n",
        "result = math.factorial(5)\n",
        "print(result)"
      ],
      "metadata": {
        "colab": {
          "base_uri": "https://localhost:8080/"
        },
        "id": "qfgNNA7JGJAx",
        "outputId": "68e10f69-59de-4d76-89e9-e4136929f838"
      },
      "execution_count": null,
      "outputs": [
        {
          "output_type": "stream",
          "name": "stdout",
          "text": [
            "120\n"
          ]
        }
      ]
    },
    {
      "cell_type": "code",
      "source": [
        "import math \n",
        "result = math.factorial(78)\n",
        "print(result)"
      ],
      "metadata": {
        "colab": {
          "base_uri": "https://localhost:8080/"
        },
        "id": "qcLtXX3MGk5q",
        "outputId": "5f2efaf8-e961-49f5-c403-a6427301fe73"
      },
      "execution_count": null,
      "outputs": [
        {
          "output_type": "stream",
          "name": "stdout",
          "text": [
            "11324281178206297831457521158732046228731749579488251990048962825668835325234200766245086213177344000000000000000000\n"
          ]
        }
      ]
    },
    {
      "cell_type": "code",
      "source": [
        "# my file name \n",
        "\n",
        "print(\"This is my first program\")\n",
        "\n",
        "print('This is my first program')"
      ],
      "metadata": {
        "id": "pwQ7N-ZOGpn_",
        "colab": {
          "base_uri": "https://localhost:8080/"
        },
        "outputId": "0067a43d-59a8-448a-8edf-1adbf0403757"
      },
      "execution_count": null,
      "outputs": [
        {
          "output_type": "stream",
          "name": "stdout",
          "text": [
            "This is my first program\n",
            "This is my first program\n"
          ]
        }
      ]
    },
    {
      "cell_type": "markdown",
      "source": [
        "Arithmatic operation"
      ],
      "metadata": {
        "id": "crgB5nVZ7D1q"
      }
    },
    {
      "cell_type": "code",
      "source": [
        "print(5+10)\n",
        "print(5*10)\n",
        "print(5+2*5)\n",
        "print((5+2)*5)"
      ],
      "metadata": {
        "colab": {
          "base_uri": "https://localhost:8080/"
        },
        "id": "iVjdaBmU4ZYJ",
        "outputId": "b22e0157-9927-460a-e05d-90c2bb9b82a7"
      },
      "execution_count": null,
      "outputs": [
        {
          "output_type": "stream",
          "name": "stdout",
          "text": [
            "15\n",
            "50\n",
            "15\n",
            "35\n"
          ]
        }
      ]
    },
    {
      "cell_type": "code",
      "source": [
        "print(100/3) #division\n",
        "print(100-3)\n",
        "print(100//3) #floor division\n",
        "print(2*3)\n",
        "print(2**3) #power 2 power 3"
      ],
      "metadata": {
        "colab": {
          "base_uri": "https://localhost:8080/"
        },
        "id": "0N4y2Ewo45gv",
        "outputId": "c4438446-1081-4a12-d959-c48a7f83bb26"
      },
      "execution_count": null,
      "outputs": [
        {
          "output_type": "stream",
          "name": "stdout",
          "text": [
            "33.333333333333336\n",
            "97\n",
            "33\n",
            "6\n",
            "8\n"
          ]
        }
      ]
    },
    {
      "cell_type": "code",
      "source": [
        "print(100%7)\n",
        "print(100%9)\n",
        "print(100%2)"
      ],
      "metadata": {
        "colab": {
          "base_uri": "https://localhost:8080/"
        },
        "id": "Y88-govo6TWs",
        "outputId": "e13576dd-fdaa-4b96-ab5c-414ae6a249a7"
      },
      "execution_count": null,
      "outputs": [
        {
          "output_type": "stream",
          "name": "stdout",
          "text": [
            "2\n",
            "1\n",
            "0\n"
          ]
        }
      ]
    },
    {
      "cell_type": "code",
      "source": [
        "print(2**3+2*3)\n",
        "print((2**3)+2*3)"
      ],
      "metadata": {
        "colab": {
          "base_uri": "https://localhost:8080/"
        },
        "id": "BxWAz2t95VvR",
        "outputId": "70e5684b-5adb-49fe-c7fb-aa27f4af4eca"
      },
      "execution_count": null,
      "outputs": [
        {
          "output_type": "stream",
          "name": "stdout",
          "text": [
            "14\n",
            "14\n"
          ]
        }
      ]
    },
    {
      "cell_type": "code",
      "source": [
        "# Identifiers - Variables - Reference Variables:\n",
        "\n",
        "doorno = 159  # = --> Assignment operator\n",
        "print(doorno)"
      ],
      "metadata": {
        "colab": {
          "base_uri": "https://localhost:8080/"
        },
        "id": "-ZewJivV7TwZ",
        "outputId": "dd4c1afd-cd76-4543-816f-52b26c24a3a2"
      },
      "execution_count": null,
      "outputs": [
        {
          "output_type": "stream",
          "name": "stdout",
          "text": [
            "159\n"
          ]
        }
      ]
    },
    {
      "cell_type": "code",
      "source": [
        "name1 = \"nikil\"\n",
        "name2 = 'gokila'\n",
        "print(name1)"
      ],
      "metadata": {
        "colab": {
          "base_uri": "https://localhost:8080/"
        },
        "id": "IqceCuZk7uKN",
        "outputId": "0bd16c1e-740f-41a0-c78f-b379c4f54faf"
      },
      "execution_count": null,
      "outputs": [
        {
          "output_type": "stream",
          "name": "stdout",
          "text": [
            "nikil\n"
          ]
        }
      ]
    },
    {
      "cell_type": "code",
      "source": [
        "# alphabets - small / capital\n",
        "# numbers are allowed\n",
        "#underscore is allowed\n",
        "# Space is not allowed\n",
        "# No other special character is allowed\n",
        "\n",
        "tamil1 = 90\n",
        "print(tamil1)\n",
        "tamil2 = 89\n",
        "print(tamil2)\n",
        "\n",
        "tamil_1 = 90\n",
        "print(tamil_1)\n",
        "\n",
        "TAMIL2 = 78\n",
        "print(TAMIL2)\n",
        "\n"
      ],
      "metadata": {
        "colab": {
          "base_uri": "https://localhost:8080/"
        },
        "id": "cYrVT3B18SID",
        "outputId": "1df9415e-edc9-4790-a274-c347b24aa247"
      },
      "execution_count": null,
      "outputs": [
        {
          "output_type": "stream",
          "name": "stdout",
          "text": [
            "90\n",
            "89\n",
            "90\n",
            "78\n"
          ]
        }
      ]
    },
    {
      "cell_type": "code",
      "source": [
        "2TAMIL = 78\n",
        "print(2TAMIL)"
      ],
      "metadata": {
        "colab": {
          "base_uri": "https://localhost:8080/",
          "height": 130
        },
        "id": "MzWPGABA9TuK",
        "outputId": "8aa26d5e-0fc4-4bed-a4d0-4a9cdf6c0029"
      },
      "execution_count": null,
      "outputs": [
        {
          "output_type": "error",
          "ename": "SyntaxError",
          "evalue": "ignored",
          "traceback": [
            "\u001b[0;36m  File \u001b[0;32m\"<ipython-input-11-64f6739874cf>\"\u001b[0;36m, line \u001b[0;32m1\u001b[0m\n\u001b[0;31m    2TAMIL = 78\u001b[0m\n\u001b[0m         ^\u001b[0m\n\u001b[0;31mSyntaxError\u001b[0m\u001b[0;31m:\u001b[0m invalid syntax\n"
          ]
        }
      ]
    },
    {
      "cell_type": "code",
      "source": [
        "# Rules\n",
        "# No special characters allowed\n",
        "# No space is allowed\n",
        "# Underscore is allowed (string, middle, end)\n",
        "# Numbers are allowed, but should not start with numbers\n",
        "# Case sensitive\n",
        "# No limitations, any length\n",
        "# Reserved words in python should not be used as identifiers.\n",
        "# _, __ starting --> private variable\n"
      ],
      "metadata": {
        "id": "F6zKyFX4-GHb"
      },
      "execution_count": null,
      "outputs": []
    },
    {
      "cell_type": "code",
      "source": [
        "_tamil = 29\n",
        "print(_tamil)"
      ],
      "metadata": {
        "colab": {
          "base_uri": "https://localhost:8080/"
        },
        "id": "oqRGHeZF9nK_",
        "outputId": "1d918ba8-1a05-4b81-92d6-805dbc643d4a"
      },
      "execution_count": null,
      "outputs": [
        {
          "output_type": "stream",
          "name": "stdout",
          "text": [
            "29\n"
          ]
        }
      ]
    },
    {
      "cell_type": "code",
      "source": [
        "_TAMIL2 = 80\n",
        "print(_TAMIL2)"
      ],
      "metadata": {
        "colab": {
          "base_uri": "https://localhost:8080/"
        },
        "id": "lyyrTRDY9uhs",
        "outputId": "42a1e29a-3f2d-4e63-a02c-e600c16f3cd3"
      },
      "execution_count": null,
      "outputs": [
        {
          "output_type": "stream",
          "name": "stdout",
          "text": [
            "80\n"
          ]
        }
      ]
    },
    {
      "cell_type": "code",
      "source": [
        "# Python reserved words:\n",
        "# 33 Reserved words\n",
        "# True / False / None\n",
        "# and or is\n",
        "# if elif else\n",
        "# while for break continue return yield in\n",
        "# try except finally raise assert"
      ],
      "metadata": {
        "id": "6rPX-ZDh-7HU"
      },
      "execution_count": null,
      "outputs": []
    },
    {
      "cell_type": "code",
      "source": [
        "import keyword\n",
        "keyword.kwlist"
      ],
      "metadata": {
        "colab": {
          "base_uri": "https://localhost:8080/"
        },
        "id": "p6TQAfRA_6MP",
        "outputId": "6599e490-5971-4a06-9019-30319d064dd9"
      },
      "execution_count": null,
      "outputs": [
        {
          "output_type": "execute_result",
          "data": {
            "text/plain": [
              "['False',\n",
              " 'None',\n",
              " 'True',\n",
              " 'and',\n",
              " 'as',\n",
              " 'assert',\n",
              " 'async',\n",
              " 'await',\n",
              " 'break',\n",
              " 'class',\n",
              " 'continue',\n",
              " 'def',\n",
              " 'del',\n",
              " 'elif',\n",
              " 'else',\n",
              " 'except',\n",
              " 'finally',\n",
              " 'for',\n",
              " 'from',\n",
              " 'global',\n",
              " 'if',\n",
              " 'import',\n",
              " 'in',\n",
              " 'is',\n",
              " 'lambda',\n",
              " 'nonlocal',\n",
              " 'not',\n",
              " 'or',\n",
              " 'pass',\n",
              " 'raise',\n",
              " 'return',\n",
              " 'try',\n",
              " 'while',\n",
              " 'with',\n",
              " 'yield']"
            ]
          },
          "metadata": {},
          "execution_count": 14
        }
      ]
    },
    {
      "cell_type": "markdown",
      "source": [
        "DATA TYPES:\n",
        "\n",
        "Dynamically typed Programming Language"
      ],
      "metadata": {
        "id": "eOEI8kj-AatH"
      }
    },
    {
      "cell_type": "code",
      "source": [
        "Duck Typing Language"
      ],
      "metadata": {
        "id": "Hc5sYBs_AW-k"
      },
      "execution_count": null,
      "outputs": []
    },
    {
      "cell_type": "markdown",
      "source": [
        "no = 10 #integer\n",
        "\n",
        "boolean result = true\n",
        "\n",
        "boolean result = false\n"
      ],
      "metadata": {
        "id": "TII7wQDpOskl"
      }
    },
    {
      "cell_type": "code",
      "source": [
        "#In built Datatypes : 14\n",
        "\n",
        "int\n",
        "float\n",
        "complex\n",
        "bool\n",
        "str\n",
        "bytes\n",
        "bytearray\n",
        "range\n",
        "list\n",
        "set\n",
        "frozenset\n",
        "tuple\n",
        "dict\n",
        "None\n",
        "\n"
      ],
      "metadata": {
        "id": "H16pOhHIPavg"
      },
      "execution_count": null,
      "outputs": []
    },
    {
      "cell_type": "code",
      "source": [
        "no = 50                    # input - parameter / argument\n",
        "print(no)                  # action - function / methond / procedure / routine\n",
        "print(type(no))        "
      ],
      "metadata": {
        "colab": {
          "base_uri": "https://localhost:8080/"
        },
        "id": "x-uPrz67QGL3",
        "outputId": "26d06995-2fab-4a15-d551-5077cd1d5374"
      },
      "execution_count": null,
      "outputs": [
        {
          "output_type": "stream",
          "name": "stdout",
          "text": [
            "50\n",
            "<class 'int'>\n"
          ]
        }
      ]
    },
    {
      "cell_type": "code",
      "source": [
        "no = 4.5\n",
        "print(no)\n",
        "print(type(no))"
      ],
      "metadata": {
        "colab": {
          "base_uri": "https://localhost:8080/"
        },
        "id": "u_m450QtR0-U",
        "outputId": "1c7bc648-5853-4473-9648-bd6074951e92"
      },
      "execution_count": null,
      "outputs": [
        {
          "output_type": "stream",
          "name": "stdout",
          "text": [
            "4.5\n",
            "<class 'float'>\n"
          ]
        }
      ]
    },
    {
      "cell_type": "code",
      "source": [
        "result = True\n",
        "print(result)\n",
        "print(type(result))"
      ],
      "metadata": {
        "colab": {
          "base_uri": "https://localhost:8080/"
        },
        "id": "gVhScMiuR-8N",
        "outputId": "1d6d96c4-a0d6-4e05-d11d-f34311e486ad"
      },
      "execution_count": null,
      "outputs": [
        {
          "output_type": "stream",
          "name": "stdout",
          "text": [
            "True\n",
            "<class 'bool'>\n"
          ]
        }
      ]
    },
    {
      "cell_type": "code",
      "source": [
        "name = 'nikil'\n",
        "print(name)\n",
        "print(type(name)) # datatype\n",
        "print(id(name))   # address"
      ],
      "metadata": {
        "colab": {
          "base_uri": "https://localhost:8080/"
        },
        "id": "-H2ll3OITsun",
        "outputId": "1826af3a-d306-43fc-8348-599c394d80d1"
      },
      "execution_count": null,
      "outputs": [
        {
          "output_type": "stream",
          "name": "stdout",
          "text": [
            "nikil\n",
            "<class 'str'>\n",
            "140515396278704\n"
          ]
        }
      ]
    },
    {
      "cell_type": "code",
      "source": [
        "no = 23\n",
        "print(no)\n",
        "print(id(no))\n",
        "print(type(no))"
      ],
      "metadata": {
        "colab": {
          "base_uri": "https://localhost:8080/"
        },
        "id": "24z9xr5ZUA1d",
        "outputId": "c0e0ea33-ab3f-4092-cf13-968d188538e1"
      },
      "execution_count": null,
      "outputs": [
        {
          "output_type": "stream",
          "name": "stdout",
          "text": [
            "23\n",
            "11256768\n",
            "<class 'int'>\n"
          ]
        }
      ]
    },
    {
      "cell_type": "code",
      "source": [
        "name = 'nikil'  # functin len\n",
        "print(len(name))"
      ],
      "metadata": {
        "colab": {
          "base_uri": "https://localhost:8080/"
        },
        "id": "kvz5wD6EUjoW",
        "outputId": "fc34e703-f8d7-4f2c-d37a-72c971dc7068"
      },
      "execution_count": null,
      "outputs": [
        {
          "output_type": "stream",
          "name": "stdout",
          "text": [
            "5\n"
          ]
        }
      ]
    },
    {
      "cell_type": "code",
      "source": [
        "no = 234.65437      # function round\n",
        "print(no)\n",
        "print(round(no))\n",
        "print(round(no,2))\n",
        "print(round(no,3))"
      ],
      "metadata": {
        "colab": {
          "base_uri": "https://localhost:8080/"
        },
        "id": "6cFDqo77U0Hw",
        "outputId": "a8731722-e6be-47f4-f58c-05e8a156db2b"
      },
      "execution_count": null,
      "outputs": [
        {
          "output_type": "stream",
          "name": "stdout",
          "text": [
            "234.65437\n",
            "235\n",
            "234.65\n",
            "234.654\n"
          ]
        }
      ]
    },
    {
      "cell_type": "code",
      "source": [
        "no = 1234\n",
        "print(len(no))"
      ],
      "metadata": {
        "colab": {
          "base_uri": "https://localhost:8080/",
          "height": 182
        },
        "id": "knKG3DtbVPQG",
        "outputId": "a7740d4c-b233-4681-edf3-9755cb14b1ad"
      },
      "execution_count": null,
      "outputs": [
        {
          "output_type": "error",
          "ename": "TypeError",
          "evalue": "ignored",
          "traceback": [
            "\u001b[0;31m---------------------------------------------------------------------------\u001b[0m",
            "\u001b[0;31mTypeError\u001b[0m                                 Traceback (most recent call last)",
            "\u001b[0;32m<ipython-input-14-496bb366ad1e>\u001b[0m in \u001b[0;36m<module>\u001b[0;34m()\u001b[0m\n\u001b[1;32m      1\u001b[0m \u001b[0mno\u001b[0m \u001b[0;34m=\u001b[0m \u001b[0;36m1234\u001b[0m\u001b[0;34m\u001b[0m\u001b[0;34m\u001b[0m\u001b[0m\n\u001b[0;32m----> 2\u001b[0;31m \u001b[0mprint\u001b[0m\u001b[0;34m(\u001b[0m\u001b[0mlen\u001b[0m\u001b[0;34m(\u001b[0m\u001b[0mno\u001b[0m\u001b[0;34m)\u001b[0m\u001b[0;34m)\u001b[0m\u001b[0;34m\u001b[0m\u001b[0;34m\u001b[0m\u001b[0m\n\u001b[0m",
            "\u001b[0;31mTypeError\u001b[0m: object of type 'int' has no len()"
          ]
        }
      ]
    },
    {
      "cell_type": "code",
      "source": [
        "# int datatype\n",
        "# Decimal form\n",
        "# Binary form 0s and 1s\n",
        "# Octal form     8--> 0 1 2 3 4 5 6 7\n",
        "# Hexadecimal form   16--> 0 9 A B C D E F \n",
        "\n",
        "no = 0B1001    # binary form\n",
        "print(no)\n",
        "\n",
        "no = 0b1001\n",
        "print(no)"
      ],
      "metadata": {
        "colab": {
          "base_uri": "https://localhost:8080/"
        },
        "id": "gEMare1YVb6v",
        "outputId": "7a10b294-2666-4042-d6f2-9c5781844d80"
      },
      "execution_count": null,
      "outputs": [
        {
          "output_type": "stream",
          "name": "stdout",
          "text": [
            "9\n",
            "9\n"
          ]
        }
      ]
    },
    {
      "cell_type": "code",
      "source": [
        "no = 0o776  # Octal form\n",
        "print(no)\n",
        "\n",
        "no1 = 0o123\n",
        "print(no1)"
      ],
      "metadata": {
        "colab": {
          "base_uri": "https://localhost:8080/"
        },
        "id": "0BT1gUiHWEKz",
        "outputId": "3c9199f9-1a1f-4231-8325-17fd774abf5f"
      },
      "execution_count": null,
      "outputs": [
        {
          "output_type": "stream",
          "name": "stdout",
          "text": [
            "510\n",
            "83\n"
          ]
        }
      ]
    },
    {
      "cell_type": "code",
      "source": [
        "no = 0X123   # Hexadecimal form\n",
        "print(no)\n",
        "\n",
        "no = 0Xabc\n",
        "print(no)\n",
        "\n",
        "no = 0XCAB\n",
        "print(no)"
      ],
      "metadata": {
        "colab": {
          "base_uri": "https://localhost:8080/"
        },
        "id": "v8_c-j8eXFMH",
        "outputId": "b7babf58-08d7-490a-fa03-bd802a2a4849"
      },
      "execution_count": null,
      "outputs": [
        {
          "output_type": "stream",
          "name": "stdout",
          "text": [
            "291\n",
            "2748\n",
            "3243\n"
          ]
        }
      ]
    },
    {
      "cell_type": "code",
      "source": [
        "no = bin(20)\n",
        "print(no)\n",
        "\n",
        "no = oct(20)\n",
        "print(no)\n",
        "\n",
        "no = hex(30)\n",
        "print(hex)"
      ],
      "metadata": {
        "colab": {
          "base_uri": "https://localhost:8080/"
        },
        "id": "6xe4onAnYGXc",
        "outputId": "f81959da-288e-405b-fbf3-458e588451f8"
      },
      "execution_count": 1,
      "outputs": [
        {
          "output_type": "stream",
          "name": "stdout",
          "text": [
            "0b10100\n",
            "0o24\n",
            "<built-in function hex>\n"
          ]
        }
      ]
    },
    {
      "cell_type": "markdown",
      "source": [
        "Float Data types:"
      ],
      "metadata": {
        "id": "XkFTkmNoY5nC"
      }
    },
    {
      "cell_type": "code",
      "source": [
        "no = 23452.9887503873362672819\n",
        "print(no)\n",
        "print(type(no))"
      ],
      "metadata": {
        "colab": {
          "base_uri": "https://localhost:8080/"
        },
        "id": "niMfB5GFZEJI",
        "outputId": "ed23a51b-9ef4-442f-f9c8-5eefb7228882"
      },
      "execution_count": null,
      "outputs": [
        {
          "output_type": "stream",
          "name": "stdout",
          "text": [
            "23452.988750387336\n",
            "<class 'float'>\n"
          ]
        }
      ]
    },
    {
      "cell_type": "code",
      "source": [
        "no1 = 7.7e3\n",
        "print(no1)"
      ],
      "metadata": {
        "colab": {
          "base_uri": "https://localhost:8080/"
        },
        "id": "BViZ-l1fZYYW",
        "outputId": "645d0d03-f1ff-43eb-a7e8-8f31eea16376"
      },
      "execution_count": null,
      "outputs": [
        {
          "output_type": "stream",
          "name": "stdout",
          "text": [
            "7700.0\n"
          ]
        }
      ]
    },
    {
      "cell_type": "code",
      "source": [
        "no2 = 7.7E3\n",
        "print(no2)\n",
        "print(type(no2))"
      ],
      "metadata": {
        "colab": {
          "base_uri": "https://localhost:8080/"
        },
        "id": "EDelShIgf1Em",
        "outputId": "316a4b54-1b61-45b5-c073-77bca2d5963c"
      },
      "execution_count": null,
      "outputs": [
        {
          "output_type": "stream",
          "name": "stdout",
          "text": [
            "7700.0\n",
            "<class 'float'>\n"
          ]
        }
      ]
    },
    {
      "cell_type": "markdown",
      "source": [
        "Complex Datatypes:\n",
        "\n",
        "Real part + Imaginary part"
      ],
      "metadata": {
        "id": "Ekot031igJxW"
      }
    },
    {
      "cell_type": "code",
      "source": [
        "no = 5+10j\n",
        "print(no)\n",
        "print(type(no))\n",
        "\n",
        "no2 = 10 + 5j\n",
        "\n",
        "total = no + no2\n",
        "print(total)\n",
        "\n",
        "print(no2.real)\n",
        "print(no2.imag)"
      ],
      "metadata": {
        "colab": {
          "base_uri": "https://localhost:8080/"
        },
        "id": "JfTLIivFgTXn",
        "outputId": "2231478b-723d-476f-b407-49f4a7591492"
      },
      "execution_count": null,
      "outputs": [
        {
          "output_type": "stream",
          "name": "stdout",
          "text": [
            "(5+10j)\n",
            "<class 'complex'>\n",
            "(15+15j)\n",
            "10.0\n",
            "5.0\n"
          ]
        }
      ]
    },
    {
      "cell_type": "code",
      "source": [
        "no1 = 10    # assignment operator\n",
        "no2 = 20\n",
        "print(no1<no2)    #10<20\n",
        "print(no1>no2)    # 10>20\n",
        "print(no1==no2)   # comparison equal\n",
        "print(no1!=no2)   # comparison not equal"
      ],
      "metadata": {
        "colab": {
          "base_uri": "https://localhost:8080/"
        },
        "id": "tmIgLOtngdFp",
        "outputId": "1b43f8d9-dbae-4489-a828-7ac08bdcf990"
      },
      "execution_count": null,
      "outputs": [
        {
          "output_type": "stream",
          "name": "stdout",
          "text": [
            "True\n",
            "False\n",
            "False\n",
            "True\n"
          ]
        }
      ]
    },
    {
      "cell_type": "code",
      "source": [
        "present = True\n",
        "print(present)\n",
        "print(type(present))"
      ],
      "metadata": {
        "colab": {
          "base_uri": "https://localhost:8080/"
        },
        "id": "aowMGGrNiVEF",
        "outputId": "03c270bb-0571-4261-f2ef-cf2c35f1df7c"
      },
      "execution_count": null,
      "outputs": [
        {
          "output_type": "stream",
          "name": "stdout",
          "text": [
            "True\n",
            "<class 'bool'>\n"
          ]
        }
      ]
    },
    {
      "cell_type": "code",
      "source": [
        "print(True+True)  # 1+1 = 2\n",
        "print(True+False) # 1+0 = 1\n",
        "print(False+False) # 0+0 = 0"
      ],
      "metadata": {
        "colab": {
          "base_uri": "https://localhost:8080/"
        },
        "id": "hQCtCca4ik4M",
        "outputId": "e4dbf923-16ef-4c9e-c855-7bc1a33be569"
      },
      "execution_count": null,
      "outputs": [
        {
          "output_type": "stream",
          "name": "stdout",
          "text": [
            "2\n",
            "1\n",
            "0\n"
          ]
        }
      ]
    },
    {
      "cell_type": "markdown",
      "source": [
        "**String** Data types:"
      ],
      "metadata": {
        "id": "EhqLA005i_c8"
      }
    },
    {
      "cell_type": "code",
      "source": [
        "name = \"nikil\"\n",
        "print(name)\n",
        "name = 'gokila'\n",
        "print(name)\n",
        "\n",
        "name = ''' gokila's mail id is gokila636@gmail.com and he said \"hi\" '''\n",
        "print(name)\n",
        "\n",
        "address = \"\"\" 197/3, velacherry,\n",
        "               chennai 42\n",
        "               Tamil Nadu \"\"\"\n",
        "print(address)"
      ],
      "metadata": {
        "colab": {
          "base_uri": "https://localhost:8080/"
        },
        "id": "C1DJiZnIjCvJ",
        "outputId": "74df9dfd-64d6-4d34-a292-3f9a1a7ced47"
      },
      "execution_count": null,
      "outputs": [
        {
          "output_type": "stream",
          "name": "stdout",
          "text": [
            "nikil\n",
            "gokila\n",
            " gokila's mail id is gokila636@gmail.com and he said \"hi\" \n",
            " 197/3, velacherry,\n",
            "               chennai 42\n",
            "               Tamil Nadu \n"
          ]
        }
      ]
    },
    {
      "cell_type": "code",
      "source": [
        "name = 'gokila'\n",
        "city = 'chennai'\n",
        "print(name+city)\n",
        "print(name,city)"
      ],
      "metadata": {
        "colab": {
          "base_uri": "https://localhost:8080/"
        },
        "id": "QMsrDYOOl20e",
        "outputId": "0d6efc72-4050-4a43-d660-7e40c274b66c"
      },
      "execution_count": null,
      "outputs": [
        {
          "output_type": "stream",
          "name": "stdout",
          "text": [
            "gokilachennai\n",
            "gokila chennai\n"
          ]
        }
      ]
    },
    {
      "cell_type": "code",
      "source": [
        "name = 'nikil'\n",
        "pincode = 608502\n",
        "print(name,pincode)"
      ],
      "metadata": {
        "colab": {
          "base_uri": "https://localhost:8080/"
        },
        "id": "oVGmF9QNmQUv",
        "outputId": "84192639-181c-4f06-8007-fbfb3a6876f6"
      },
      "execution_count": null,
      "outputs": [
        {
          "output_type": "stream",
          "name": "stdout",
          "text": [
            "nikil 608502\n"
          ]
        }
      ]
    },
    {
      "cell_type": "code",
      "source": [
        "name = 'nikil'\n",
        "pincode = 608502\n",
        "print(name+pincode)"
      ],
      "metadata": {
        "colab": {
          "base_uri": "https://localhost:8080/",
          "height": 200
        },
        "id": "WAhVwWEhmjVj",
        "outputId": "cd56fb93-5108-42b7-bc13-633065453dd0"
      },
      "execution_count": null,
      "outputs": [
        {
          "output_type": "error",
          "ename": "TypeError",
          "evalue": "ignored",
          "traceback": [
            "\u001b[0;31m---------------------------------------------------------------------------\u001b[0m",
            "\u001b[0;31mTypeError\u001b[0m                                 Traceback (most recent call last)",
            "\u001b[0;32m<ipython-input-34-f8a7bc11d2eb>\u001b[0m in \u001b[0;36m<module>\u001b[0;34m()\u001b[0m\n\u001b[1;32m      1\u001b[0m \u001b[0mname\u001b[0m \u001b[0;34m=\u001b[0m \u001b[0;34m'nikil'\u001b[0m\u001b[0;34m\u001b[0m\u001b[0;34m\u001b[0m\u001b[0m\n\u001b[1;32m      2\u001b[0m \u001b[0mpincode\u001b[0m \u001b[0;34m=\u001b[0m \u001b[0;36m608502\u001b[0m\u001b[0;34m\u001b[0m\u001b[0;34m\u001b[0m\u001b[0m\n\u001b[0;32m----> 3\u001b[0;31m \u001b[0mprint\u001b[0m\u001b[0;34m(\u001b[0m\u001b[0mname\u001b[0m\u001b[0;34m+\u001b[0m\u001b[0mpincode\u001b[0m\u001b[0;34m)\u001b[0m\u001b[0;34m\u001b[0m\u001b[0;34m\u001b[0m\u001b[0m\n\u001b[0m",
            "\u001b[0;31mTypeError\u001b[0m: can only concatenate str (not \"int\") to str"
          ]
        }
      ]
    },
    {
      "cell_type": "markdown",
      "source": [
        "String Slicing:"
      ],
      "metadata": {
        "id": "d6hHFs1UnYCZ"
      }
    },
    {
      "cell_type": "code",
      "source": [
        "# Forward / Backword\n",
        "# Forward - +ve - starts from zero\n",
        "\n",
        "name = 'Nikil'   # 01234 index - order\n",
        "print(name[0])\n",
        "print(name[1])\n",
        "print(name[2])\n",
        "print(name[3])\n",
        "print(name[4])"
      ],
      "metadata": {
        "colab": {
          "base_uri": "https://localhost:8080/"
        },
        "id": "7155LGzrnckI",
        "outputId": "d0d480e6-a827-4db5-aa88-ed4e9a26e3f8"
      },
      "execution_count": null,
      "outputs": [
        {
          "output_type": "stream",
          "name": "stdout",
          "text": [
            "N\n",
            "i\n",
            "k\n",
            "i\n",
            "l\n"
          ]
        }
      ]
    },
    {
      "cell_type": "code",
      "source": [
        "# Backward - -ve starts from -1\n",
        "name = 'gokila'\n",
        "print(name[-6])\n",
        "print(name[-5])\n",
        "print(name[-4])\n",
        "print(name[-3])\n",
        "print(name[-2])\n",
        "print(name[-1])"
      ],
      "metadata": {
        "colab": {
          "base_uri": "https://localhost:8080/"
        },
        "id": "YHKYQGcmoFue",
        "outputId": "ee19cad9-76e9-4aa2-92a6-a0b3ce0d01ab"
      },
      "execution_count": null,
      "outputs": [
        {
          "output_type": "stream",
          "name": "stdout",
          "text": [
            "g\n",
            "o\n",
            "k\n",
            "i\n",
            "l\n",
            "a\n"
          ]
        }
      ]
    },
    {
      "cell_type": "code",
      "source": [
        "name = 'nikigoki'\n",
        "print(name[0:5])\n",
        "\n",
        "print(name[7:])\n",
        "\n",
        "print(name[8:])\n",
        "\n",
        "print(name[:4])\n",
        "\n",
        "print(name[4:8])\n",
        "\n",
        "\n"
      ],
      "metadata": {
        "colab": {
          "base_uri": "https://localhost:8080/"
        },
        "id": "k88dPpAVp1QR",
        "outputId": "60675708-44e4-4cb2-f4a5-3a00e1dfba95"
      },
      "execution_count": null,
      "outputs": [
        {
          "output_type": "stream",
          "name": "stdout",
          "text": [
            "nikig\n",
            "i\n",
            "\n",
            "niki\n",
            "goki\n"
          ]
        }
      ]
    },
    {
      "cell_type": "code",
      "source": [
        "name = 'abcdefghijklmnopqrstuvwxyz'\n",
        "\n",
        "print(name[0:5])\n",
        "\n",
        "print(name[-1:])\n",
        "\n",
        "print(name[-6:-1])\n",
        "\n",
        "print(name[5:10])\n"
      ],
      "metadata": {
        "colab": {
          "base_uri": "https://localhost:8080/"
        },
        "id": "5UIKThS6z3wM",
        "outputId": "bc6e157b-dcb1-4bf7-963c-1d17b134e0d2"
      },
      "execution_count": null,
      "outputs": [
        {
          "output_type": "stream",
          "name": "stdout",
          "text": [
            "abcde\n",
            "z\n",
            "uvwxy\n",
            "fghij\n"
          ]
        }
      ]
    },
    {
      "cell_type": "code",
      "source": [
        "name = 'abcdefghijklmnopqrstuvwxyz'\n",
        "\n",
        "print(name[::])\n",
        "\n",
        "print(name[1:10:2])  # step operator"
      ],
      "metadata": {
        "colab": {
          "base_uri": "https://localhost:8080/"
        },
        "id": "MCADKmBl4b_J",
        "outputId": "63f8eea7-8117-4311-df6f-97d9e3ab46cb"
      },
      "execution_count": null,
      "outputs": [
        {
          "output_type": "stream",
          "name": "stdout",
          "text": [
            "abcdefghijklmnopqrstuvwxyz\n",
            "bdfhj\n"
          ]
        }
      ]
    },
    {
      "cell_type": "code",
      "source": [
        "dir(str)"
      ],
      "metadata": {
        "colab": {
          "base_uri": "https://localhost:8080/"
        },
        "id": "Er_5kiJ1z3LK",
        "outputId": "f797a30c-ff70-40a1-d57c-2090963e8483"
      },
      "execution_count": null,
      "outputs": [
        {
          "output_type": "execute_result",
          "data": {
            "text/plain": [
              "['__add__',\n",
              " '__class__',\n",
              " '__contains__',\n",
              " '__delattr__',\n",
              " '__dir__',\n",
              " '__doc__',\n",
              " '__eq__',\n",
              " '__format__',\n",
              " '__ge__',\n",
              " '__getattribute__',\n",
              " '__getitem__',\n",
              " '__getnewargs__',\n",
              " '__gt__',\n",
              " '__hash__',\n",
              " '__init__',\n",
              " '__init_subclass__',\n",
              " '__iter__',\n",
              " '__le__',\n",
              " '__len__',\n",
              " '__lt__',\n",
              " '__mod__',\n",
              " '__mul__',\n",
              " '__ne__',\n",
              " '__new__',\n",
              " '__reduce__',\n",
              " '__reduce_ex__',\n",
              " '__repr__',\n",
              " '__rmod__',\n",
              " '__rmul__',\n",
              " '__setattr__',\n",
              " '__sizeof__',\n",
              " '__str__',\n",
              " '__subclasshook__',\n",
              " 'capitalize',\n",
              " 'casefold',\n",
              " 'center',\n",
              " 'count',\n",
              " 'encode',\n",
              " 'endswith',\n",
              " 'expandtabs',\n",
              " 'find',\n",
              " 'format',\n",
              " 'format_map',\n",
              " 'index',\n",
              " 'isalnum',\n",
              " 'isalpha',\n",
              " 'isascii',\n",
              " 'isdecimal',\n",
              " 'isdigit',\n",
              " 'isidentifier',\n",
              " 'islower',\n",
              " 'isnumeric',\n",
              " 'isprintable',\n",
              " 'isspace',\n",
              " 'istitle',\n",
              " 'isupper',\n",
              " 'join',\n",
              " 'ljust',\n",
              " 'lower',\n",
              " 'lstrip',\n",
              " 'maketrans',\n",
              " 'partition',\n",
              " 'replace',\n",
              " 'rfind',\n",
              " 'rindex',\n",
              " 'rjust',\n",
              " 'rpartition',\n",
              " 'rsplit',\n",
              " 'rstrip',\n",
              " 'split',\n",
              " 'splitlines',\n",
              " 'startswith',\n",
              " 'strip',\n",
              " 'swapcase',\n",
              " 'title',\n",
              " 'translate',\n",
              " 'upper',\n",
              " 'zfill']"
            ]
          },
          "metadata": {},
          "execution_count": 49
        }
      ]
    },
    {
      "cell_type": "code",
      "source": [
        "name = 'abcdefghijklmnopqrstuvwxyz'\n",
        "\n",
        "print(len(name))\n",
        "\n",
        "print(name[8:1:-1])\n",
        "\n",
        "print(name[8:1:-2])\n",
        "\n",
        "print(name[-26:-1])\n",
        "\n",
        "print(name[-26:-1:4])"
      ],
      "metadata": {
        "colab": {
          "base_uri": "https://localhost:8080/"
        },
        "id": "4ZyR1Mve5Z8Y",
        "outputId": "85e5ffb5-b77f-4ec9-e24a-6f653a53e6c4"
      },
      "execution_count": null,
      "outputs": [
        {
          "output_type": "stream",
          "name": "stdout",
          "text": [
            "26\n",
            "ihgfedc\n",
            "igec\n",
            "abcdefghijklmnopqrstuvwxy\n",
            "aeimquy\n"
          ]
        }
      ]
    },
    {
      "cell_type": "code",
      "source": [
        "name = 'nikilgokila'\n",
        "\n",
        "print(len(name))\n",
        "val = len(name)\n",
        "print(name[0:val])"
      ],
      "metadata": {
        "colab": {
          "base_uri": "https://localhost:8080/"
        },
        "id": "wPgzxTY0-uil",
        "outputId": "24136887-72bc-4274-de5a-f80a73ad106e"
      },
      "execution_count": null,
      "outputs": [
        {
          "output_type": "stream",
          "name": "stdout",
          "text": [
            "11\n",
            "nikilgokila\n"
          ]
        }
      ]
    },
    {
      "cell_type": "code",
      "source": [
        "name = 'nikilgokila'\n",
        "\n",
        "print(len(name))\n",
        "\n",
        "val = len(name)\n",
        "\n",
        "print(name[-val:val])\n",
        "\n",
        "print(name[(val-1):0:-1])"
      ],
      "metadata": {
        "colab": {
          "base_uri": "https://localhost:8080/"
        },
        "id": "W1rPhTD39TBi",
        "outputId": "1a796457-a48d-40f6-b513-300b0d846e52"
      },
      "execution_count": null,
      "outputs": [
        {
          "output_type": "stream",
          "name": "stdout",
          "text": [
            "11\n",
            "nikilgokila\n",
            "alikogliki\n"
          ]
        }
      ]
    },
    {
      "cell_type": "code",
      "source": [
        "name = 'nikilgokila' \n",
        "print(name[::-1])  # reverse in order\n",
        "print(name[5:-5])\n",
        "print(name[::4])"
      ],
      "metadata": {
        "colab": {
          "base_uri": "https://localhost:8080/"
        },
        "id": "SO8NJqgGAg9y",
        "outputId": "b594a716-855c-46de-f988-94a9c43e0f4c"
      },
      "execution_count": null,
      "outputs": [
        {
          "output_type": "stream",
          "name": "stdout",
          "text": [
            "alikoglikin\n",
            "g\n",
            "nli\n"
          ]
        }
      ]
    },
    {
      "cell_type": "code",
      "source": [
        "# PALINDROME\n",
        "name = 'appa'\n",
        "print(name)\n",
        "name2 = name [::-1]\n",
        "print(name2)\n",
        "print(name==name2)\n",
        "\n",
        "name = 'amma'\n",
        "print(name)\n",
        "name2 = name [::-1]\n",
        "print(name2)\n",
        "print(name==name2)"
      ],
      "metadata": {
        "colab": {
          "base_uri": "https://localhost:8080/"
        },
        "id": "lnKzfAeFBsdY",
        "outputId": "66e9e9b3-57de-4505-901d-8edd4355e918"
      },
      "execution_count": null,
      "outputs": [
        {
          "output_type": "stream",
          "name": "stdout",
          "text": [
            "appa\n",
            "appa\n",
            "True\n",
            "amma\n",
            "amma\n",
            "True\n"
          ]
        }
      ]
    },
    {
      "cell_type": "code",
      "source": [
        "name = 'tub'\n",
        "print(*name)\n"
      ],
      "metadata": {
        "colab": {
          "base_uri": "https://localhost:8080/"
        },
        "id": "I-0nQpG-1ZZN",
        "outputId": "6a658b17-11fa-4746-bcaf-2c4573d4068c"
      },
      "execution_count": null,
      "outputs": [
        {
          "output_type": "stream",
          "name": "stdout",
          "text": [
            "t u b\n"
          ]
        }
      ]
    },
    {
      "cell_type": "markdown",
      "source": [
        "Type casting:\n",
        "\n",
        "Coverting one datatype to another datatype:"
      ],
      "metadata": {
        "id": "urImG44e3MTT"
      }
    },
    {
      "cell_type": "code",
      "source": [
        "no = 99.8\n",
        "print(int(no))"
      ],
      "metadata": {
        "colab": {
          "base_uri": "https://localhost:8080/"
        },
        "id": "8JFmR6VB28Xs",
        "outputId": "d5d60066-6986-4174-ae97-df7f7996cd2d"
      },
      "execution_count": null,
      "outputs": [
        {
          "output_type": "stream",
          "name": "stdout",
          "text": [
            "99\n"
          ]
        }
      ]
    },
    {
      "cell_type": "code",
      "source": [
        "print(True+True)\n",
        "print(True+False)\n",
        "print(False+False)"
      ],
      "metadata": {
        "colab": {
          "base_uri": "https://localhost:8080/"
        },
        "id": "gHvNSy-X3k-M",
        "outputId": "63f627e2-49f0-40c3-fe78-5f3a63c0465d"
      },
      "execution_count": null,
      "outputs": [
        {
          "output_type": "stream",
          "name": "stdout",
          "text": [
            "2\n",
            "1\n",
            "0\n"
          ]
        }
      ]
    },
    {
      "cell_type": "code",
      "source": [
        "print(int(True))\n",
        "print(int(False))"
      ],
      "metadata": {
        "colab": {
          "base_uri": "https://localhost:8080/"
        },
        "id": "jrbEDTEE4hdW",
        "outputId": "2f2a03fa-1893-4ba1-a431-c25cb121c2b3"
      },
      "execution_count": null,
      "outputs": [
        {
          "output_type": "stream",
          "name": "stdout",
          "text": [
            "1\n",
            "0\n"
          ]
        }
      ]
    },
    {
      "cell_type": "code",
      "source": [
        "name = 'nikil'\n",
        "print(int(name))"
      ],
      "metadata": {
        "colab": {
          "base_uri": "https://localhost:8080/",
          "height": 183
        },
        "id": "XbWgL6Dz4_9K",
        "outputId": "34a798e4-5104-4870-b43a-6ea765233165"
      },
      "execution_count": null,
      "outputs": [
        {
          "output_type": "error",
          "ename": "ValueError",
          "evalue": "ignored",
          "traceback": [
            "\u001b[0;31m---------------------------------------------------------------------------\u001b[0m",
            "\u001b[0;31mValueError\u001b[0m                                Traceback (most recent call last)",
            "\u001b[0;32m<ipython-input-6-a095521ee3dd>\u001b[0m in \u001b[0;36m<module>\u001b[0;34m()\u001b[0m\n\u001b[1;32m      1\u001b[0m \u001b[0mname\u001b[0m \u001b[0;34m=\u001b[0m \u001b[0;34m'nikil'\u001b[0m\u001b[0;34m\u001b[0m\u001b[0;34m\u001b[0m\u001b[0m\n\u001b[0;32m----> 2\u001b[0;31m \u001b[0mprint\u001b[0m\u001b[0;34m(\u001b[0m\u001b[0mint\u001b[0m\u001b[0;34m(\u001b[0m\u001b[0mname\u001b[0m\u001b[0;34m)\u001b[0m\u001b[0;34m)\u001b[0m\u001b[0;34m\u001b[0m\u001b[0;34m\u001b[0m\u001b[0m\n\u001b[0m",
            "\u001b[0;31mValueError\u001b[0m: invalid literal for int() with base 10: 'nikil'"
          ]
        }
      ]
    },
    {
      "cell_type": "code",
      "source": [
        "doorno ='10'\n",
        "\n",
        "print(doorno)\n",
        "\n",
        "print(type(int(doorno)))\n",
        "\n",
        "print(float(10))\n",
        "\n",
        "print(float(False))\n",
        "\n",
        "print(float(True))"
      ],
      "metadata": {
        "colab": {
          "base_uri": "https://localhost:8080/"
        },
        "id": "aWgtCzGe5MMd",
        "outputId": "488a964b-4757-4b1f-b54f-6c033fb2d904"
      },
      "execution_count": null,
      "outputs": [
        {
          "output_type": "stream",
          "name": "stdout",
          "text": [
            "10\n",
            "<class 'int'>\n",
            "10.0\n",
            "0.0\n",
            "1.0\n"
          ]
        }
      ]
    },
    {
      "cell_type": "code",
      "source": [
        "#Complex()\n",
        "\n",
        "print(complex(10))\n",
        "print(complex(5.4))\n",
        "print(complex(True))\n",
        "print(complex(False))\n",
        "print(complex(\"12\"))\n",
        "print(complex(\"12.7\"))"
      ],
      "metadata": {
        "colab": {
          "base_uri": "https://localhost:8080/"
        },
        "id": "2dLHB70M8AJY",
        "outputId": "ae2718fc-7e3f-4308-c3b8-91af6da746d0"
      },
      "execution_count": null,
      "outputs": [
        {
          "output_type": "stream",
          "name": "stdout",
          "text": [
            "(10+0j)\n",
            "(5.4+0j)\n",
            "(1+0j)\n",
            "0j\n",
            "(12+0j)\n",
            "(12.7+0j)\n"
          ]
        }
      ]
    },
    {
      "cell_type": "code",
      "source": [
        "# Bool()\n",
        "\n",
        "print(bool(0))\n",
        "print(bool(1))\n",
        "print(bool(1.5))\n",
        "print(bool(0.3))\n",
        "print(bool(0.0))\n",
        "print(bool(5+4j))\n",
        "print(bool(0+2j))\n",
        "print(bool(0+0j))\n",
        "print(bool(\"ABC\"))\n",
        "print(bool(\"\"))\n",
        "print(bool(\"True\"))\n",
        "print(bool(\"False\"))\n",
        "print(bool())"
      ],
      "metadata": {
        "colab": {
          "base_uri": "https://localhost:8080/"
        },
        "id": "DqHKBTdf8y4c",
        "outputId": "1570abae-1a44-4bb8-9ca9-84c153a5d6d5"
      },
      "execution_count": null,
      "outputs": [
        {
          "output_type": "stream",
          "name": "stdout",
          "text": [
            "False\n",
            "True\n",
            "True\n",
            "True\n",
            "False\n",
            "True\n",
            "True\n",
            "False\n",
            "True\n",
            "False\n",
            "True\n",
            "True\n",
            "False\n"
          ]
        }
      ]
    },
    {
      "cell_type": "code",
      "source": [
        "#String()\n",
        "print(str(10))\n",
        " \n",
        "print(\"price of a Tea is\"  + str(10))"
      ],
      "metadata": {
        "colab": {
          "base_uri": "https://localhost:8080/"
        },
        "id": "o9HZilbv-MwA",
        "outputId": "07c7a6ed-9887-4741-8c0e-693ef5562234"
      },
      "execution_count": null,
      "outputs": [
        {
          "output_type": "stream",
          "name": "stdout",
          "text": [
            "10\n",
            "price of a Tea is10\n"
          ]
        }
      ]
    },
    {
      "cell_type": "code",
      "source": [
        "print(str(34.5))\n",
        "print(str(5+10j))\n",
        "print(str(True))\n",
        "print(str(False))"
      ],
      "metadata": {
        "colab": {
          "base_uri": "https://localhost:8080/"
        },
        "id": "oPm_T1Hz-qTC",
        "outputId": "2b03f539-c3e6-4e2b-82cb-1fe616b0d005"
      },
      "execution_count": null,
      "outputs": [
        {
          "output_type": "stream",
          "name": "stdout",
          "text": [
            "34.5\n",
            "(5+10j)\n",
            "True\n",
            "False\n"
          ]
        }
      ]
    },
    {
      "cell_type": "code",
      "source": [
        "#14 Datatypes - 5 Fundamental Data types\n",
        "\n",
        "#All Funtamental Datatypes are Immutable\n",
        "\n",
        "no1 = 10\n",
        "print(id(no1))\n",
        "\n",
        "no2 = 10.0\n",
        "print(id(no2))\n",
        "\n",
        "#print(no1 is no2)\n",
        "\n",
        "print(no1 == no2) #equality\n",
        "\n",
        "print(no1 is no2)  #identity operator\n",
        "\n",
        "print(no1 is not no2)\n",
        "\n",
        "print(no1 != no2)"
      ],
      "metadata": {
        "colab": {
          "base_uri": "https://localhost:8080/"
        },
        "id": "ZrAi_8RP_K56",
        "outputId": "d36881cd-238e-434d-a38f-21f0cb09bbb8"
      },
      "execution_count": null,
      "outputs": [
        {
          "output_type": "stream",
          "name": "stdout",
          "text": [
            "11256352\n",
            "139804217334320\n",
            "True\n",
            "False\n",
            "True\n",
            "False\n"
          ]
        }
      ]
    },
    {
      "cell_type": "markdown",
      "source": [
        "Bytes 8 bit    2 power 8\n",
        "\n",
        "Group of byte numbers"
      ],
      "metadata": {
        "id": "uNDabNOeDm7c"
      }
    },
    {
      "cell_type": "code",
      "source": [
        "values = [90, 80, 70, 60,67]\n",
        "\n",
        "values = bytes(values)\n",
        "\n",
        "print(values)\n",
        "\n",
        "print(type(values))"
      ],
      "metadata": {
        "colab": {
          "base_uri": "https://localhost:8080/"
        },
        "id": "wsBtFn4UDNSX",
        "outputId": "01e3d1c8-bec5-46f5-cbfa-4f0079783373"
      },
      "execution_count": null,
      "outputs": [
        {
          "output_type": "stream",
          "name": "stdout",
          "text": [
            "b'ZPF<C'\n",
            "<class 'bytes'>\n"
          ]
        }
      ]
    },
    {
      "cell_type": "code",
      "source": [
        "values = [90, 80, 70, 60,67]\n",
        "\n",
        "values = bytes(values)\n",
        "\n",
        "print(values[0])\n",
        "print(values[1])\n",
        "print(values[2])\n",
        "print(values[3])\n",
        "print(values[4])\n",
        "print(values[-1])\n",
        "print(type(values))\n"
      ],
      "metadata": {
        "colab": {
          "base_uri": "https://localhost:8080/"
        },
        "id": "0Dd0ztmKE2NA",
        "outputId": "d926644b-dad8-48ca-e3ec-6030949ea342"
      },
      "execution_count": null,
      "outputs": [
        {
          "output_type": "stream",
          "name": "stdout",
          "text": [
            "90\n",
            "80\n",
            "70\n",
            "60\n",
            "67\n",
            "67\n",
            "<class 'bytes'>\n"
          ]
        }
      ]
    },
    {
      "cell_type": "code",
      "source": [
        "values = [90, 80, 70, 60,67]\n",
        "for values in values:\n",
        "  print(values)"
      ],
      "metadata": {
        "colab": {
          "base_uri": "https://localhost:8080/"
        },
        "id": "KGnc61FHFboE",
        "outputId": "9f7ca5ce-cc23-4ba2-9744-f1e07f150065"
      },
      "execution_count": null,
      "outputs": [
        {
          "output_type": "stream",
          "name": "stdout",
          "text": [
            "90\n",
            "80\n",
            "70\n",
            "60\n",
            "67\n"
          ]
        }
      ]
    },
    {
      "cell_type": "code",
      "source": [
        "total = 0\n",
        "values = [67,89,65,90]\n",
        "for value in values:\n",
        "  total = total + value   # Indentation\n",
        "\n",
        "print(total)\n"
      ],
      "metadata": {
        "colab": {
          "base_uri": "https://localhost:8080/"
        },
        "id": "EQw56LY1OcUf",
        "outputId": "5128b3f9-f2b4-4d8b-9ae3-a1c52d8d3b6a"
      },
      "execution_count": null,
      "outputs": [
        {
          "output_type": "stream",
          "name": "stdout",
          "text": [
            "311\n"
          ]
        }
      ]
    },
    {
      "cell_type": "markdown",
      "source": [
        "**ODD , EVEN**"
      ],
      "metadata": {
        "id": "yOW9YDfOSFtO"
      }
    },
    {
      "cell_type": "code",
      "source": [
        "no = input()\n",
        "print(no)"
      ],
      "metadata": {
        "colab": {
          "base_uri": "https://localhost:8080/"
        },
        "id": "pwtTOBapSPW4",
        "outputId": "b2c75dea-abfd-45ec-dc4d-b326c93d15fb"
      },
      "execution_count": null,
      "outputs": [
        {
          "output_type": "stream",
          "name": "stdout",
          "text": [
            "45\n",
            "45\n"
          ]
        }
      ]
    },
    {
      "cell_type": "code",
      "source": [
        "no = input(\"Enter your value: \")\n",
        "print(no)"
      ],
      "metadata": {
        "colab": {
          "base_uri": "https://localhost:8080/"
        },
        "id": "6lKulz8QScWl",
        "outputId": "8eb5d28b-596b-452f-dc82-65208b39972e"
      },
      "execution_count": null,
      "outputs": [
        {
          "output_type": "stream",
          "name": "stdout",
          "text": [
            "Enter your value: 50\n",
            "50\n"
          ]
        }
      ]
    },
    {
      "cell_type": "code",
      "source": [
        "no = input(\"Enter your value: \")\n",
        "print(no)\n",
        "type(no)"
      ],
      "metadata": {
        "colab": {
          "base_uri": "https://localhost:8080/"
        },
        "id": "Gd1D1EjbS0AZ",
        "outputId": "368f0880-f9a1-4a47-d667-ed86e3cf8962"
      },
      "execution_count": null,
      "outputs": [
        {
          "output_type": "stream",
          "name": "stdout",
          "text": [
            "Enter your value: 45\n",
            "45\n"
          ]
        },
        {
          "output_type": "execute_result",
          "data": {
            "text/plain": [
              "str"
            ]
          },
          "metadata": {},
          "execution_count": 11
        }
      ]
    },
    {
      "cell_type": "code",
      "source": [
        "no = int(input(\"Enter your value: \"))\n",
        "print(no)\n",
        "type(no)"
      ],
      "metadata": {
        "colab": {
          "base_uri": "https://localhost:8080/"
        },
        "id": "R74rrNoSS65H",
        "outputId": "0e9c3bc6-e45d-47e8-c05b-b029572e9d7f"
      },
      "execution_count": null,
      "outputs": [
        {
          "output_type": "stream",
          "name": "stdout",
          "text": [
            "Enter your value: 68\n",
            "68\n"
          ]
        },
        {
          "output_type": "execute_result",
          "data": {
            "text/plain": [
              "int"
            ]
          },
          "metadata": {},
          "execution_count": 12
        }
      ]
    },
    {
      "cell_type": "code",
      "source": [
        "values = [90, 85, 73, 60, 67]\n",
        "\n",
        "for no in values:\n",
        "  if no%2==0:\n",
        "    print(no)"
      ],
      "metadata": {
        "colab": {
          "base_uri": "https://localhost:8080/"
        },
        "id": "-ykSK_AYUhCe",
        "outputId": "85ec1da5-7d65-40c0-e1f6-caf1d7be006d"
      },
      "execution_count": null,
      "outputs": [
        {
          "output_type": "stream",
          "name": "stdout",
          "text": [
            "90\n",
            "60\n"
          ]
        }
      ]
    },
    {
      "cell_type": "code",
      "source": [
        "values = [90, 85, 73, 60, 67]\n",
        "\n",
        "for no in values:\n",
        "  if not no%2==0:\n",
        "    print(no)"
      ],
      "metadata": {
        "colab": {
          "base_uri": "https://localhost:8080/"
        },
        "id": "KoxstuCXVDNY",
        "outputId": "ab5025ef-bfeb-439b-8028-73ac7aec1b07"
      },
      "execution_count": null,
      "outputs": [
        {
          "output_type": "stream",
          "name": "stdout",
          "text": [
            "85\n",
            "73\n",
            "67\n"
          ]
        }
      ]
    },
    {
      "cell_type": "markdown",
      "source": [
        "**Operators**"
      ],
      "metadata": {
        "id": "5OLiINmhWC8e"
      }
    },
    {
      "cell_type": "markdown",
      "source": [
        "Relational Operators:\n",
        "\n",
        ">     >=    <    <="
      ],
      "metadata": {
        "id": "zJPQjgYZWKUj"
      }
    },
    {
      "cell_type": "code",
      "source": [
        "name1 = \"nikil\"\n",
        "name2 = \"gokila\"     # Lexicographical Order - Dictionary\n",
        "print(name1>name2)\n",
        "print(name1<name2)\n",
        "print(name1==name2)\n",
        "print(name1!=name2)"
      ],
      "metadata": {
        "colab": {
          "base_uri": "https://localhost:8080/"
        },
        "id": "jOyYiczPV7mL",
        "outputId": "f4923778-baa2-445a-e973-30e1d31970a4"
      },
      "execution_count": null,
      "outputs": [
        {
          "output_type": "stream",
          "name": "stdout",
          "text": [
            "True\n",
            "False\n",
            "False\n",
            "True\n"
          ]
        }
      ]
    },
    {
      "cell_type": "code",
      "source": [
        "print(\"Hi Hello\")\n",
        "\n",
        "print(\"Hi \\t Hello\")\n",
        "\n",
        "print(\"Hi \\n Hello\")\n",
        "\n",
        "print(\"I'm fine\")"
      ],
      "metadata": {
        "colab": {
          "base_uri": "https://localhost:8080/"
        },
        "id": "kCSHDPZdXRyL",
        "outputId": "fa07637b-a6f7-436d-977b-479b315e7ed5"
      },
      "execution_count": null,
      "outputs": [
        {
          "output_type": "stream",
          "name": "stdout",
          "text": [
            "Hi Hello\n",
            "Hi \t Hello\n",
            "Hi \n",
            " Hello\n",
            "I'm fine\n"
          ]
        }
      ]
    }
  ]
}