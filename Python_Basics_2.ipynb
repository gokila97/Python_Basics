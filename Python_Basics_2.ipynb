{
  "nbformat": 4,
  "nbformat_minor": 0,
  "metadata": {
    "colab": {
      "name": "Python_Basics_2.ipynb",
      "provenance": [],
      "authorship_tag": "ABX9TyO2Jn1gftKUulVzWRq3H7yf",
      "include_colab_link": true
    },
    "kernelspec": {
      "name": "python3",
      "display_name": "Python 3"
    },
    "language_info": {
      "name": "python"
    }
  },
  "cells": [
    {
      "cell_type": "markdown",
      "metadata": {
        "id": "view-in-github",
        "colab_type": "text"
      },
      "source": [
        "<a href=\"https://colab.research.google.com/github/gokila97/Python_Basics/blob/main/Python_Basics_2.ipynb\" target=\"_parent\"><img src=\"https://colab.research.google.com/assets/colab-badge.svg\" alt=\"Open In Colab\"/></a>"
      ]
    },
    {
      "cell_type": "markdown",
      "source": [
        "# Constants"
      ],
      "metadata": {
        "id": "bZ6nunh-ckVD"
      }
    },
    {
      "cell_type": "markdown",
      "source": [
        "Assignment opreators\n",
        "\n",
        "+= -= *= /= //="
      ],
      "metadata": {
        "id": "9uucdTk5czEx"
      }
    },
    {
      "cell_type": "code",
      "execution_count": 1,
      "metadata": {
        "colab": {
          "base_uri": "https://localhost:8080/"
        },
        "id": "lBsSQ6TlHC6K",
        "outputId": "a9343e9b-0dd5-4dcd-96fa-15926c02f124"
      },
      "outputs": [
        {
          "output_type": "stream",
          "name": "stdout",
          "text": [
            "17\n"
          ]
        }
      ],
      "source": [
        "no = 12\n",
        "#no = no + 1  # no+=1\n",
        "\n",
        "no+=5\n",
        "\n",
        "print(no)"
      ]
    },
    {
      "cell_type": "code",
      "source": [
        "no*=2   # no= no*2\n",
        "\n",
        "print(no)"
      ],
      "metadata": {
        "colab": {
          "base_uri": "https://localhost:8080/"
        },
        "id": "Fg8eIP53dk-j",
        "outputId": "7f73d940-878a-4a6a-dc0f-d42e911cb660"
      },
      "execution_count": 3,
      "outputs": [
        {
          "output_type": "stream",
          "name": "stdout",
          "text": [
            "68\n"
          ]
        }
      ]
    },
    {
      "cell_type": "markdown",
      "source": [
        "Teranry Operators (Conditional Operators)"
      ],
      "metadata": {
        "id": "jYUMSaReeHvS"
      }
    },
    {
      "cell_type": "code",
      "source": [
        "#no1 = 10, no2 = 20, no3 = 30\n",
        "no1, no2, no3 = 10, 20, 30\n",
        "print(no3)"
      ],
      "metadata": {
        "colab": {
          "base_uri": "https://localhost:8080/"
        },
        "id": "Gb-KHmy7d6dD",
        "outputId": "fbe7a02f-9b4a-4220-884c-ed6502aee037"
      },
      "execution_count": 5,
      "outputs": [
        {
          "output_type": "stream",
          "name": "stdout",
          "text": [
            "30\n"
          ]
        }
      ]
    },
    {
      "cell_type": "code",
      "source": [
        "no1, no2 = 10, 20\n",
        "no3 = 30 if no1>no2 else 40\n",
        "print(no3)"
      ],
      "metadata": {
        "colab": {
          "base_uri": "https://localhost:8080/"
        },
        "id": "LN96iqtRfbpG",
        "outputId": "6e000b1b-298a-4c2f-d61c-675eee426705"
      },
      "execution_count": 6,
      "outputs": [
        {
          "output_type": "stream",
          "name": "stdout",
          "text": [
            "40\n"
          ]
        }
      ]
    },
    {
      "cell_type": "code",
      "source": [
        "no1, no2 = 10, 20\n",
        "no3 = 30 if no1<no2 else 40\n",
        "print(no3)"
      ],
      "metadata": {
        "colab": {
          "base_uri": "https://localhost:8080/"
        },
        "id": "V5iN8tlPgNRa",
        "outputId": "1fd2b051-d6cb-4890-cf66-5bbabeb028d5"
      },
      "execution_count": 8,
      "outputs": [
        {
          "output_type": "stream",
          "name": "stdout",
          "text": [
            "30\n"
          ]
        }
      ]
    },
    {
      "cell_type": "markdown",
      "source": [
        "Membership Operators"
      ],
      "metadata": {
        "id": "pb8KjEaYgppu"
      }
    },
    {
      "cell_type": "code",
      "source": [
        "# in, not in\n",
        "\n",
        "Day = 'Today is Friday'\n",
        "print('o' in Day)"
      ],
      "metadata": {
        "colab": {
          "base_uri": "https://localhost:8080/"
        },
        "id": "GBcEkKcogh4g",
        "outputId": "468f62c3-0ccc-49c1-dc75-96acfc49e323"
      },
      "execution_count": 9,
      "outputs": [
        {
          "output_type": "stream",
          "name": "stdout",
          "text": [
            "True\n"
          ]
        }
      ]
    },
    {
      "cell_type": "code",
      "source": [
        "print('h' in Day)"
      ],
      "metadata": {
        "colab": {
          "base_uri": "https://localhost:8080/"
        },
        "id": "0vox21LLhBP3",
        "outputId": "ca26ad09-9f0a-43fa-d97b-3490a5754cf6"
      },
      "execution_count": 10,
      "outputs": [
        {
          "output_type": "stream",
          "name": "stdout",
          "text": [
            "False\n"
          ]
        }
      ]
    },
    {
      "cell_type": "code",
      "source": [
        "Day = 'Today is Friday'\n",
        "print('o' not in Day)"
      ],
      "metadata": {
        "colab": {
          "base_uri": "https://localhost:8080/"
        },
        "id": "-BrKkJoAhJxM",
        "outputId": "0c983e89-dcc3-44fc-9b43-f5fd76c4481b"
      },
      "execution_count": 11,
      "outputs": [
        {
          "output_type": "stream",
          "name": "stdout",
          "text": [
            "False\n"
          ]
        }
      ]
    },
    {
      "cell_type": "code",
      "source": [
        "print('h' not in Day)"
      ],
      "metadata": {
        "colab": {
          "base_uri": "https://localhost:8080/"
        },
        "id": "WWGa4O21hWSY",
        "outputId": "5c5e306b-7b02-428e-860d-a3aa278c14e3"
      },
      "execution_count": 12,
      "outputs": [
        {
          "output_type": "stream",
          "name": "stdout",
          "text": [
            "True\n"
          ]
        }
      ]
    },
    {
      "cell_type": "markdown",
      "source": [
        "Operators Chaining"
      ],
      "metadata": {
        "id": "aVcf8qkohkRg"
      }
    },
    {
      "cell_type": "code",
      "source": [
        "print(100<200)\n",
        "print(200<300)\n",
        "print(100<200<300)"
      ],
      "metadata": {
        "colab": {
          "base_uri": "https://localhost:8080/"
        },
        "id": "HJBQaHKHhaL-",
        "outputId": "4c1aeec7-7e77-40f9-d10d-dad20aefd40e"
      },
      "execution_count": 13,
      "outputs": [
        {
          "output_type": "stream",
          "name": "stdout",
          "text": [
            "True\n",
            "True\n",
            "True\n"
          ]
        }
      ]
    },
    {
      "cell_type": "code",
      "source": [
        "print(100<500<300)"
      ],
      "metadata": {
        "colab": {
          "base_uri": "https://localhost:8080/"
        },
        "id": "lWwr2-CjhzhU",
        "outputId": "838fe746-9606-45a8-b847-7bf2d1949727"
      },
      "execution_count": 14,
      "outputs": [
        {
          "output_type": "stream",
          "name": "stdout",
          "text": [
            "False\n"
          ]
        }
      ]
    },
    {
      "cell_type": "markdown",
      "source": [
        "Bitwise Operators\n",
        "#  & | ^ - >>  <<\n",
        "\n"
      ],
      "metadata": {
        "id": "o_W4SH0ciBPY"
      }
    },
    {
      "cell_type": "code",
      "source": [
        "print(4&5)\n",
        "print(4|5)"
      ],
      "metadata": {
        "colab": {
          "base_uri": "https://localhost:8080/"
        },
        "id": "dI0kinJWh-R1",
        "outputId": "895fb897-65d5-459a-dc5a-afefd02885c9"
      },
      "execution_count": 15,
      "outputs": [
        {
          "output_type": "stream",
          "name": "stdout",
          "text": [
            "4\n",
            "5\n"
          ]
        }
      ]
    },
    {
      "cell_type": "code",
      "source": [
        "print(4^5)    # XOR"
      ],
      "metadata": {
        "colab": {
          "base_uri": "https://localhost:8080/"
        },
        "id": "z8PeDLWZjca_",
        "outputId": "25306b1a-4983-411a-b629-fa04e1dd87b8"
      },
      "execution_count": 16,
      "outputs": [
        {
          "output_type": "stream",
          "name": "stdout",
          "text": [
            "1\n"
          ]
        }
      ]
    },
    {
      "cell_type": "code",
      "source": [
        "no = 10\n",
        "print(~no)     # Bitwise Compliment Operator"
      ],
      "metadata": {
        "colab": {
          "base_uri": "https://localhost:8080/"
        },
        "id": "jdeA5YcWjzJh",
        "outputId": "6a1408e4-4c90-4791-9c1c-af36609bf2ae"
      },
      "execution_count": 17,
      "outputs": [
        {
          "output_type": "stream",
          "name": "stdout",
          "text": [
            "-11\n"
          ]
        }
      ]
    },
    {
      "cell_type": "code",
      "source": [
        "no = 100\n",
        "print(~no)     "
      ],
      "metadata": {
        "colab": {
          "base_uri": "https://localhost:8080/"
        },
        "id": "W9BhznRokh99",
        "outputId": "129b8050-9b2e-4cc3-bb94-22910f191604"
      },
      "execution_count": 18,
      "outputs": [
        {
          "output_type": "stream",
          "name": "stdout",
          "text": [
            "-101\n"
          ]
        }
      ]
    },
    {
      "cell_type": "code",
      "source": [
        "no = 10\n",
        "print(no>>1)"
      ],
      "metadata": {
        "colab": {
          "base_uri": "https://localhost:8080/"
        },
        "id": "rF5DXjimkzRp",
        "outputId": "cb172433-be38-4b6d-9c62-cdb9eb793ffe"
      },
      "execution_count": 20,
      "outputs": [
        {
          "output_type": "stream",
          "name": "stdout",
          "text": [
            "5\n"
          ]
        }
      ]
    },
    {
      "cell_type": "code",
      "source": [
        "no = 10\n",
        "print(no<<1)"
      ],
      "metadata": {
        "colab": {
          "base_uri": "https://localhost:8080/"
        },
        "id": "Jn4O52HylwiE",
        "outputId": "7a6b8f3b-0fbf-4fa2-89b9-db8089d967f3"
      },
      "execution_count": 21,
      "outputs": [
        {
          "output_type": "stream",
          "name": "stdout",
          "text": [
            "20\n"
          ]
        }
      ]
    },
    {
      "cell_type": "markdown",
      "source": [
        "Logical Operators"
      ],
      "metadata": {
        "id": "McvOxaxIuJCb"
      }
    },
    {
      "cell_type": "code",
      "source": [
        "print(5 and 4)"
      ],
      "metadata": {
        "colab": {
          "base_uri": "https://localhost:8080/"
        },
        "id": "vIeUnDgOnFDM",
        "outputId": "6a20b766-9bd8-4627-ea70-1f58c9e0264f"
      },
      "execution_count": 22,
      "outputs": [
        {
          "output_type": "stream",
          "name": "stdout",
          "text": [
            "4\n"
          ]
        }
      ]
    },
    {
      "cell_type": "code",
      "source": [
        "print(5 or 4)"
      ],
      "metadata": {
        "colab": {
          "base_uri": "https://localhost:8080/"
        },
        "id": "asL4qqhHuRX4",
        "outputId": "05705f9d-0e0b-4271-c663-b41551622e75"
      },
      "execution_count": 24,
      "outputs": [
        {
          "output_type": "stream",
          "name": "stdout",
          "text": [
            "5\n"
          ]
        }
      ]
    },
    {
      "cell_type": "code",
      "source": [
        "result = True\n",
        "result2 = not result\n",
        "print(result)\n",
        "print(result2)"
      ],
      "metadata": {
        "colab": {
          "base_uri": "https://localhost:8080/"
        },
        "id": "WB3WyeZ2uW8V",
        "outputId": "ec91c060-dba9-47a3-ee7c-3d7e34dee448"
      },
      "execution_count": 25,
      "outputs": [
        {
          "output_type": "stream",
          "name": "stdout",
          "text": [
            "True\n",
            "False\n"
          ]
        }
      ]
    },
    {
      "cell_type": "markdown",
      "source": [
        "Modules\n",
        "\n",
        "Variables, Functions call, Functions definition\n",
        "\n",
        "print()\n",
        "\n",
        "int()"
      ],
      "metadata": {
        "id": "kt8uHJTiuz3i"
      }
    },
    {
      "cell_type": "code",
      "source": [
        "no1 = int(input(\"Enter no1\"))\n",
        "no2 = int(input(\"Enter no2\"))"
      ],
      "metadata": {
        "colab": {
          "base_uri": "https://localhost:8080/"
        },
        "id": "amAo7Au1uoIo",
        "outputId": "a39aabdb-6e0c-4f4c-fdb2-0098a7ac0951"
      },
      "execution_count": 28,
      "outputs": [
        {
          "name": "stdout",
          "output_type": "stream",
          "text": [
            "Enter no1    290\n",
            "Enter no2         400\n"
          ]
        }
      ]
    },
    {
      "cell_type": "code",
      "source": [
        "def biggest(n1, n2):\n",
        "  if n1>n2:\n",
        "      print(n1, \"is greatest\")\n",
        "  else:\n",
        "      print(n2, \"is greatest\")\n",
        "\n",
        "n1 = int(input(\"Enter n1: \"))\n",
        "n2 = int(input(\"Enter n2: \"))      \n",
        "\n",
        "biggest(n1, n2)    #function calling statement\n",
        "                     #arguements for given function\n",
        "                      "
      ],
      "metadata": {
        "colab": {
          "base_uri": "https://localhost:8080/"
        },
        "id": "PFKImG9Zvz_K",
        "outputId": "add908a4-bb7c-4e56-df0c-f791e3c8626c"
      },
      "execution_count": 33,
      "outputs": [
        {
          "output_type": "stream",
          "name": "stdout",
          "text": [
            "Enter n1: 500\n",
            "Enter n2: 1000\n",
            "1000 is greatest\n"
          ]
        }
      ]
    },
    {
      "cell_type": "code",
      "source": [
        "biggest(9000,4009)"
      ],
      "metadata": {
        "colab": {
          "base_uri": "https://localhost:8080/"
        },
        "id": "khjGLZEFxCzF",
        "outputId": "dc8844db-a180-446f-8400-5d09e252a8e5"
      },
      "execution_count": 37,
      "outputs": [
        {
          "output_type": "stream",
          "name": "stdout",
          "text": [
            "9000 is greatest\n"
          ]
        }
      ]
    },
    {
      "cell_type": "code",
      "source": [
        "help('modules')"
      ],
      "metadata": {
        "colab": {
          "base_uri": "https://localhost:8080/",
          "height": 1000
        },
        "id": "ipcUlc2m3FQG",
        "outputId": "e5f32aee-08d5-4e0e-d30a-1fb3596da1e7"
      },
      "execution_count": 38,
      "outputs": [
        {
          "output_type": "stream",
          "name": "stdout",
          "text": [
            "\n",
            "Please wait a moment while I gather a list of all available modules...\n",
            "\n"
          ]
        },
        {
          "output_type": "stream",
          "name": "stderr",
          "text": [
            "/usr/local/lib/python3.7/dist-packages/IPython/kernel/__init__.py:13: ShimWarning: The `IPython.kernel` package has been deprecated since IPython 4.0.You should import from ipykernel or jupyter_client instead.\n",
            "  \"You should import from ipykernel or jupyter_client instead.\", ShimWarning)\n",
            "WARNING: AstropyDeprecationWarning: The private astropy._erfa module has been made into its own package, pyerfa, which is a dependency of astropy and can be imported directly using \"import erfa\" [astropy._erfa]\n",
            "/usr/local/lib/python3.7/dist-packages/datascience/tables.py:17: MatplotlibDeprecationWarning:\n",
            "\n",
            "The 'warn' parameter of use() is deprecated since Matplotlib 3.1 and will be removed in 3.3.  If any parameter follows 'warn', they should be pass as keyword, not positionally.\n",
            "\n",
            "/usr/local/lib/python3.7/dist-packages/datascience/util.py:10: MatplotlibDeprecationWarning:\n",
            "\n",
            "The 'warn' parameter of use() is deprecated since Matplotlib 3.1 and will be removed in 3.3.  If any parameter follows 'warn', they should be pass as keyword, not positionally.\n",
            "\n"
          ]
        },
        {
          "output_type": "stream",
          "name": "stdout",
          "text": [
            "Downloading http://dlib.net/files/shape_predictor_68_face_landmarks.dat.bz2 to /root/mlxtend_data/shape_predictor_68_face_landmarks.dat.bz2\n"
          ]
        },
        {
          "output_type": "stream",
          "name": "stderr",
          "text": [
            "/usr/lib/python3.7/pkgutil.py:92: UserWarning:\n",
            "\n",
            "The DICOM readers are highly experimental, unstable, and only work for Siemens time-series at the moment\n",
            "Please use with caution.  We would be grateful for your help in improving them\n",
            "\n",
            "/usr/local/lib/python3.7/dist-packages/nltk/twitter/__init__.py:20: UserWarning:\n",
            "\n",
            "The twython library has not been installed. Some functionality from the twitter package will not be available.\n",
            "\n",
            "/usr/local/lib/python3.7/dist-packages/psycopg2/__init__.py:144: UserWarning:\n",
            "\n",
            "The psycopg2 wheel package will be renamed from release 2.8; in order to keep installing from binary please use \"pip install psycopg2-binary\" instead. For details see: <http://initd.org/psycopg/docs/install.html#binary-install-from-pypi>.\n",
            "\n",
            "WARNING:pystan:This submodule contains experimental code, please use with caution\n"
          ]
        },
        {
          "output_type": "stream",
          "name": "stdout",
          "text": [
            "No CUDA runtime is found, using CUDA_HOME='/usr/local/cuda'\n",
            "Cython              colorlover          keras_preprocessing reprlib\n",
            "IPython             colorsys            keyword             requests\n",
            "OpenGL              community           kiwisolver          requests_oauthlib\n",
            "PIL                 compileall          korean_lunar_calendar resampy\n",
            "ScreenResolution    concurrent          lib2to3             resource\n",
            "__future__          configparser        libfuturize         rlcompleter\n",
            "_abc                contextlib          libpasteurize       rmagic\n",
            "_argon2_cffi_bindings contextlib2         librosa             rpy2\n",
            "_ast                contextvars         lightgbm            rsa\n",
            "_asyncio            convertdate         linecache           runpy\n",
            "_bisect             copy                llvmlite            samples\n",
            "_blake2             copyreg             lmdb                sched\n",
            "_bootlocale         coverage            locale              scipy\n",
            "_bz2                coveralls           logging             scs\n",
            "_cffi_backend       crcmod              lsb_release         seaborn\n",
            "_codecs             crypt               lunarcalendar       secrets\n",
            "_codecs_cn          csv                 lxml                select\n",
            "_codecs_hk          ctypes              lzma                selectors\n",
            "_codecs_iso2022     cufflinks           macpath             semver\n",
            "_codecs_jp          curses              mailbox             send2trash\n",
            "_codecs_kr          cv2                 mailcap             setuptools\n",
            "_codecs_tw          cvxopt              markdown            setuptools_git\n",
            "_collections        cvxpy               markupsafe          shapely\n",
            "_collections_abc    cycler              marshal             shelve\n",
            "_compat_pickle      cymem               math                shlex\n",
            "_compression        cython              matplotlib          shutil\n",
            "_contextvars        cythonmagic         matplotlib_inline   signal\n",
            "_crypt              daft                matplotlib_venn     simplegeneric\n",
            "_csv                dask                mimetypes           site\n",
            "_ctypes             dataclasses         missingno           sitecustomize\n",
            "_ctypes_test        datascience         mistune             six\n",
            "_curses             datetime            mizani              skimage\n",
            "_curses_panel       dateutil            mlxtend             sklearn\n",
            "_cvxcore            dbm                 mmap                sklearn_pandas\n",
            "_datetime           dbus                modulefinder        slugify\n",
            "_dbm                debugpy             more_itertools      smart_open\n",
            "_decimal            decimal             moviepy             smtpd\n",
            "_distutils_hack     decorator           mpmath              smtplib\n",
            "_dummy_thread       defusedxml          msgpack             sndhdr\n",
            "_ecos               descartes           multiprocess        snowballstemmer\n",
            "_elementtree        difflib             multiprocessing     socket\n",
            "_functools          dill                multitasking        socketserver\n",
            "_hashlib            dis                 murmurhash          socks\n",
            "_heapq              distributed         music21             sockshandler\n",
            "_imp                distutils           natsort             softwareproperties\n",
            "_io                 dlib                nbclient            sortedcontainers\n",
            "_json               docopt              nbconvert           soundfile\n",
            "_locale             docs                nbformat            soupsieve\n",
            "_lsprof             doctest             nest_asyncio        spacy\n",
            "_lzma               docutils            netCDF4             sphinx\n",
            "_markupbase         dopamine            netrc               spwd\n",
            "_md5                dot_parser          networkx            sql\n",
            "_multibytecodec     dummy_threading     nibabel             sqlalchemy\n",
            "_multiprocess       easydict            nis                 sqlite3\n",
            "_multiprocessing    ecos                nisext              sqlparse\n",
            "_opcode             editdistance        nltk                sre_compile\n",
            "_operator           ee                  nntplib             sre_constants\n",
            "_osx_support        email               notebook            sre_parse\n",
            "_pickle             en_core_web_sm      ntpath              srsly\n",
            "_plotly_future_     encodings           nturl2path          ssl\n",
            "_plotly_utils       entrypoints         numba               stat\n",
            "_posixsubprocess    enum                numbergen           statistics\n",
            "_py_abc             ephem               numbers             statsmodels\n",
            "_pydecimal          erfa                numexpr             storemagic\n",
            "_pyio               errno               numpy               string\n",
            "_pyrsistent_version et_xmlfile          nvidia_smi          stringprep\n",
            "_pytest             examples            oauth2client        struct\n",
            "_queue              fa2                 oauthlib            subprocess\n",
            "_random             fastai              ogr                 sunau\n",
            "_rinterface_cffi_abi fastdtw             okgrade             symbol\n",
            "_rinterface_cffi_api fastjsonschema      opcode              sympy\n",
            "_scs_direct         fastprogress        openpyxl            sympyprinting\n",
            "_scs_indirect       fastrlock           operator            symtable\n",
            "_sha1               faulthandler        opt_einsum          sys\n",
            "_sha256             fbprophet           optparse            sysconfig\n",
            "_sha3               fcntl               os                  syslog\n",
            "_sha512             feather             osgeo               tables\n",
            "_signal             filecmp             osqp                tabnanny\n",
            "_sitebuiltins       fileinput           osqppurepy          tabulate\n",
            "_socket             filelock            osr                 tarfile\n",
            "_soundfile          firebase_admin      ossaudiodev         tblib\n",
            "_sqlite3            fix_yahoo_finance   packaging           telnetlib\n",
            "_sre                flask               palettable          tempfile\n",
            "_ssl                flatbuffers         pandas              tenacity\n",
            "_stat               fnmatch             pandas_datareader   tensorboard\n",
            "_string             folium              pandas_gbq          tensorboard_data_server\n",
            "_strptime           formatter           pandas_profiling    tensorboard_plugin_wit\n",
            "_struct             fractions           pandocfilters       tensorflow\n",
            "_symtable           ftplib              panel               tensorflow_datasets\n",
            "_sysconfigdata_m_linux_x86_64-linux-gnu functools           param               tensorflow_estimator\n",
            "_sysconfigdata_m_x86_64-linux-gnu future              parser              tensorflow_gcs_config\n",
            "_testbuffer         gast                parso               tensorflow_hub\n",
            "_testcapi           gc                  past                tensorflow_io_gcs_filesystem\n",
            "_testimportmultiple gdal                pasta               tensorflow_metadata\n",
            "_testmultiphase     gdalconst           pathlib             tensorflow_probability\n",
            "_thread             gdalnumeric         patsy               termcolor\n",
            "_threading_local    gdown               pdb                 terminado\n",
            "_tkinter            genericpath         pep517              termios\n",
            "_tracemalloc        gensim              pexpect             test\n",
            "_warnings           geographiclib       pickle              testpath\n",
            "_weakref            geopy               pickleshare         tests\n",
            "_weakrefset         getopt              pickletools         text_unidecode\n",
            "_xxtestfuzz         getpass             pip                 textblob\n",
            "abc                 gettext             pipes               textwrap\n",
            "absl                gi                  piptools            theano\n",
            "aifc                gin                 pkg_resources       thinc\n",
            "alabaster           glob                pkgutil             this\n",
            "albumentations      glob2               plac                threading\n",
            "altair              gnm                 plac_core           threadpoolctl\n",
            "antigravity         google_auth_httplib2 plac_ext            tifffile\n",
            "apiclient           google_auth_oauthlib plac_tk             time\n",
            "appdirs             google_drive_downloader platform            timeit\n",
            "apt                 googleapiclient     plistlib            tinycss2\n",
            "apt_inst            googlesearch        plotly              tkinter\n",
            "apt_pkg             graphviz            plotlywidget        tlz\n",
            "aptsources          greenlet            plotnine            token\n",
            "argon2              gridfs              pluggy              tokenize\n",
            "argparse            grp                 pooch               tomli\n",
            "array               grpc                poplib              toolz\n",
            "arviz               gspread             portpicker          torch\n",
            "ast                 gspread_dataframe   posix               torchaudio\n",
            "astor               gym                 posixpath           torchsummary\n",
            "astropy             gzip                pprint              torchtext\n",
            "astunparse          h5py                prefetch_generator  torchvision\n",
            "asynchat            hashlib             preshed             tornado\n",
            "asyncio             heapdict            prettytable         tqdm\n",
            "asyncore            heapq               profile             trace\n",
            "atari_py            hijri_converter     progressbar         traceback\n",
            "atexit              hmac                prometheus_client   tracemalloc\n",
            "atomicwrites        holidays            promise             traitlets\n",
            "attr                holoviews           prompt_toolkit      tree\n",
            "attrs               html                pstats              tty\n",
            "audioop             html5lib            psutil              turtle\n",
            "audioread           http                psycopg2            tweepy\n",
            "autograd            httpimport          pty                 typeguard\n",
            "autoreload          httplib2            ptyprocess          types\n",
            "babel               httplib2shim        pvectorc            typing\n",
            "backcall            humanize            pwd                 typing_extensions\n",
            "base64              hyperopt            py                  tzlocal\n",
            "bdb                 ideep4py            py_compile          unicodedata\n",
            "bin                 idna                pyarrow             unittest\n",
            "binascii            imageio             pyasn1              uritemplate\n",
            "binhex              imagesize           pyasn1_modules      urllib\n",
            "bisect              imaplib             pyclbr              urllib3\n",
            "bleach              imblearn            pycocotools         uu\n",
            "blis                imgaug              pycparser           uuid\n",
            "bokeh               imghdr              pyct                vega_datasets\n",
            "boost               imp                 pydata_google_auth  venv\n",
            "bottleneck          importlib           pydoc               vis\n",
            "branca              importlib_metadata  pydoc_data          warnings\n",
            "bs4                 importlib_resources pydot               wasabi\n",
            "bson                imutils             pydot_ng            wave\n",
            "builtins            inflect             pydotplus           wcwidth\n",
            "bz2                 iniconfig           pydrive             weakref\n",
            "cProfile            inspect             pyemd               webbrowser\n",
            "cachecontrol        intervaltree        pyexpat             webencodings\n",
            "cached_property     io                  pyglet              werkzeug\n",
            "cachetools          ipaddress           pygments            wheel\n",
            "caffe2              ipykernel           pygtkcompat         widgetsnbextension\n",
            "calendar            ipykernel_launcher  pylab               wordcloud\n",
            "catalogue           ipython_genutils    pymc3               wrapt\n",
            "certifi             ipywidgets          pymeeus             wsgiref\n",
            "cffi                isympy              pymongo             xarray\n",
            "cftime              itertools           pymystem3           xarray_einstats\n",
            "cgi                 itsdangerous        pynvml              xdrlib\n",
            "cgitb               jax                 pyparsing           xgboost\n",
            "chardet             jaxlib              pyrsistent          xkit\n",
            "charset_normalizer  jedi                pysndfile           xlrd\n",
            "chess               jieba               pystan              xlwt\n",
            "chunk               jinja2              pytest              xml\n",
            "clang               joblib              python_utils        xmlrpc\n",
            "click               jpeg4py             pytz                xxlimited\n",
            "client              json                pyviz_comms         xxsubtype\n",
            "cloudpickle         jsonschema          pywt                yaml\n",
            "cmake               jupyter             pyximport           yellowbrick\n",
            "cmath               jupyter_client      qdldl               zict\n",
            "cmd                 jupyter_console     qtconsole           zipapp\n",
            "cmdstanpy           jupyter_core        qtpy                zipfile\n",
            "code                jupyterlab_plotly   queue               zipimport\n",
            "codecs              jupyterlab_pygments quopri              zipp\n",
            "codeop              jupyterlab_widgets  random              zlib\n",
            "colab               kaggle              re                  zmq\n",
            "collections         kapre               readline            \n",
            "colorcet            keras               regex               \n",
            "\n",
            "Enter any module name to get more help.  Or, type \"modules spam\" to search\n",
            "for modules whose name or summary contain the string \"spam\".\n",
            "\n"
          ]
        }
      ]
    },
    {
      "cell_type": "code",
      "source": [
        "import math\n",
        "print(math.sqrt(100))"
      ],
      "metadata": {
        "colab": {
          "base_uri": "https://localhost:8080/"
        },
        "id": "LyWI1tPK3UbZ",
        "outputId": "0ba141ae-789f-4d01-9f4a-e4aca0959a16"
      },
      "execution_count": 40,
      "outputs": [
        {
          "output_type": "stream",
          "name": "stdout",
          "text": [
            "10.0\n"
          ]
        }
      ]
    },
    {
      "cell_type": "code",
      "source": [
        "print(math.sqrt(25))"
      ],
      "metadata": {
        "colab": {
          "base_uri": "https://localhost:8080/"
        },
        "id": "cSMK93484NzT",
        "outputId": "608e0aef-e6a8-44de-86ea-d2d427c48f42"
      },
      "execution_count": 41,
      "outputs": [
        {
          "output_type": "stream",
          "name": "stdout",
          "text": [
            "5.0\n"
          ]
        }
      ]
    },
    {
      "cell_type": "code",
      "source": [
        "print(math.sqrt(10))"
      ],
      "metadata": {
        "colab": {
          "base_uri": "https://localhost:8080/"
        },
        "id": "Q3GRPJ2L4S0b",
        "outputId": "cfa9b134-78ec-4710-b331-81578001b2f1"
      },
      "execution_count": 42,
      "outputs": [
        {
          "output_type": "stream",
          "name": "stdout",
          "text": [
            "3.1622776601683795\n"
          ]
        }
      ]
    },
    {
      "cell_type": "code",
      "source": [
        "print(math.pow(10,3))"
      ],
      "metadata": {
        "colab": {
          "base_uri": "https://localhost:8080/"
        },
        "id": "dx8GFOLQ4Vob",
        "outputId": "759161e9-a26a-4596-9e8d-e986ac17e342"
      },
      "execution_count": 45,
      "outputs": [
        {
          "output_type": "stream",
          "name": "stdout",
          "text": [
            "1000.0\n"
          ]
        }
      ]
    },
    {
      "cell_type": "code",
      "source": [
        "print(math.ceil(10.3))"
      ],
      "metadata": {
        "colab": {
          "base_uri": "https://localhost:8080/"
        },
        "id": "42FrmHuz4bnO",
        "outputId": "919b6f15-1bab-40d8-9343-4d7c47bdb935"
      },
      "execution_count": 46,
      "outputs": [
        {
          "output_type": "stream",
          "name": "stdout",
          "text": [
            "11\n"
          ]
        }
      ]
    },
    {
      "cell_type": "code",
      "source": [
        "print(math.floor(4.7))"
      ],
      "metadata": {
        "colab": {
          "base_uri": "https://localhost:8080/"
        },
        "id": "gsVl24Jx4vIL",
        "outputId": "e1dfc396-95bf-435b-d6d1-857204ea461f"
      },
      "execution_count": 47,
      "outputs": [
        {
          "output_type": "stream",
          "name": "stdout",
          "text": [
            "4\n"
          ]
        }
      ]
    },
    {
      "cell_type": "code",
      "source": [
        "print(math.factorial(5))"
      ],
      "metadata": {
        "colab": {
          "base_uri": "https://localhost:8080/"
        },
        "id": "dcERM51Y409c",
        "outputId": "e471929c-3d93-409d-e921-274e30766f49"
      },
      "execution_count": 48,
      "outputs": [
        {
          "output_type": "stream",
          "name": "stdout",
          "text": [
            "120\n"
          ]
        }
      ]
    },
    {
      "cell_type": "code",
      "source": [
        "print(math.trunc(5.1235))"
      ],
      "metadata": {
        "colab": {
          "base_uri": "https://localhost:8080/"
        },
        "id": "qPbXbEPr47Nt",
        "outputId": "6279b5f3-26e1-448c-b47b-b74a5cd911d4"
      },
      "execution_count": 49,
      "outputs": [
        {
          "output_type": "stream",
          "name": "stdout",
          "text": [
            "5\n"
          ]
        }
      ]
    },
    {
      "cell_type": "code",
      "source": [
        "print(math.gcd(3,5))"
      ],
      "metadata": {
        "colab": {
          "base_uri": "https://localhost:8080/"
        },
        "id": "ZfqBZp0e5Avn",
        "outputId": "a90ebd65-86b3-4709-ca0e-b94a956c73d0"
      },
      "execution_count": 53,
      "outputs": [
        {
          "output_type": "stream",
          "name": "stdout",
          "text": [
            "1\n"
          ]
        }
      ]
    },
    {
      "cell_type": "code",
      "source": [
        "print(math.pi)"
      ],
      "metadata": {
        "colab": {
          "base_uri": "https://localhost:8080/"
        },
        "id": "fUzts-Fb5K3Y",
        "outputId": "dbab86d5-8045-4280-e3bd-e9a57c3b2fbf"
      },
      "execution_count": 52,
      "outputs": [
        {
          "output_type": "stream",
          "name": "stdout",
          "text": [
            "3.141592653589793\n"
          ]
        }
      ]
    },
    {
      "cell_type": "code",
      "source": [
        "radius = int(input(\"Enter radius: \"))\n",
        "print(math.pi* radius * radius)"
      ],
      "metadata": {
        "colab": {
          "base_uri": "https://localhost:8080/"
        },
        "id": "82N3B9jk5Sk9",
        "outputId": "346fe074-e5ed-47a8-e5c7-2c47e287b4ba"
      },
      "execution_count": 54,
      "outputs": [
        {
          "output_type": "stream",
          "name": "stdout",
          "text": [
            "Enter radius: 2\n",
            "12.566370614359172\n"
          ]
        }
      ]
    },
    {
      "cell_type": "code",
      "source": [
        "radius = int(input(\"Enter radius: \"))\n",
        "area = math.pi* radius * radius\n",
        "print(\"area of circle is \" ,round(area,2))"
      ],
      "metadata": {
        "colab": {
          "base_uri": "https://localhost:8080/"
        },
        "id": "KLN8_feR6CN7",
        "outputId": "12e6a1fd-8971-405e-e6f0-615f673a445e"
      },
      "execution_count": 57,
      "outputs": [
        {
          "output_type": "stream",
          "name": "stdout",
          "text": [
            "Enter radius: 3\n",
            "area of circle is  28.27\n"
          ]
        }
      ]
    },
    {
      "cell_type": "code",
      "source": [
        "from math import pi\n",
        "\n",
        "radius = int(input(\"Enter radius: \"))\n",
        "area = pi* radius * radius\n",
        "print(\"area of circle is \" ,round(area,2))"
      ],
      "metadata": {
        "colab": {
          "base_uri": "https://localhost:8080/"
        },
        "id": "m6jbUtjH6VJo",
        "outputId": "3e84532a-3628-4f66-fba1-1a88fe8ae160"
      },
      "execution_count": 58,
      "outputs": [
        {
          "output_type": "stream",
          "name": "stdout",
          "text": [
            "Enter radius: 5\n",
            "area of circle is  78.54\n"
          ]
        }
      ]
    },
    {
      "cell_type": "code",
      "source": [
        "# eval() \n",
        "expression = input(\"Enter your expression\")   #5*2+10-3/4\n",
        "\n",
        "expression = eval(expression)\n",
        "\n",
        "print(expression)"
      ],
      "metadata": {
        "colab": {
          "base_uri": "https://localhost:8080/"
        },
        "id": "QVZZloc963qe",
        "outputId": "62cd9695-3fae-45de-8a65-3924731b51da"
      },
      "execution_count": 59,
      "outputs": [
        {
          "output_type": "stream",
          "name": "stdout",
          "text": [
            "Enter your expression5*2+10-3/4\n",
            "19.25\n"
          ]
        }
      ]
    },
    {
      "cell_type": "code",
      "source": [
        "print(\"Second\",expression)"
      ],
      "metadata": {
        "colab": {
          "base_uri": "https://localhost:8080/"
        },
        "id": "A5qYGtgL7ZaA",
        "outputId": "b333ae87-28a3-4b89-8237-bfd712a69caf"
      },
      "execution_count": 60,
      "outputs": [
        {
          "output_type": "stream",
          "name": "stdout",
          "text": [
            "Second 19.25\n"
          ]
        }
      ]
    },
    {
      "cell_type": "code",
      "source": [
        "# sys module\n",
        "from sys import argv\n",
        "print(type(argv))"
      ],
      "metadata": {
        "colab": {
          "base_uri": "https://localhost:8080/"
        },
        "id": "cGDkqRIa7obj",
        "outputId": "d61c4ae8-c51c-4bda-bd65-2b2d71a79981"
      },
      "execution_count": 1,
      "outputs": [
        {
          "output_type": "stream",
          "name": "stdout",
          "text": [
            "<class 'list'>\n"
          ]
        }
      ]
    },
    {
      "cell_type": "code",
      "source": [
        "argv = [2,5,7,10]\n",
        "print(argv[0])\n",
        "print(argv[1])\n",
        "print(argv[2])"
      ],
      "metadata": {
        "colab": {
          "base_uri": "https://localhost:8080/"
        },
        "id": "afblvgCpW7TO",
        "outputId": "28a03041-d6b1-46e4-a849-69a0c7bb621d"
      },
      "execution_count": 3,
      "outputs": [
        {
          "output_type": "stream",
          "name": "stdout",
          "text": [
            "2\n",
            "5\n",
            "7\n"
          ]
        }
      ]
    },
    {
      "cell_type": "code",
      "source": [
        "print(int(argv[1] + argv[2]))\n",
        "print(int(argv[1] * argv[2]))"
      ],
      "metadata": {
        "colab": {
          "base_uri": "https://localhost:8080/"
        },
        "id": "xrFDheenXiZu",
        "outputId": "22aae9fd-bd4c-403a-adad-c18e62a48e61"
      },
      "execution_count": 7,
      "outputs": [
        {
          "output_type": "stream",
          "name": "stdout",
          "text": [
            "12\n",
            "35\n"
          ]
        }
      ]
    },
    {
      "cell_type": "code",
      "source": [
        "no1, no2 ,no3, no4 = 10, 20, 30, 40\n",
        "print(no1, no2, no3, no4, sep=\":\")"
      ],
      "metadata": {
        "colab": {
          "base_uri": "https://localhost:8080/"
        },
        "id": "hvY6m3j8X8i2",
        "outputId": "b8fa5c13-7077-4b5a-aaea-a5a0de120b59"
      },
      "execution_count": 11,
      "outputs": [
        {
          "output_type": "stream",
          "name": "stdout",
          "text": [
            "10:20:30:40\n"
          ]
        }
      ]
    },
    {
      "cell_type": "code",
      "source": [
        "no1, no2 ,no3, no4 = 10, 20, 30, 40\n",
        "print(no1, no2, no3, no4, sep=\"/\")"
      ],
      "metadata": {
        "colab": {
          "base_uri": "https://localhost:8080/"
        },
        "id": "_5ICcEWXkDfJ",
        "outputId": "38087542-2ebf-41c4-d5b4-36b317bb637a"
      },
      "execution_count": 12,
      "outputs": [
        {
          "output_type": "stream",
          "name": "stdout",
          "text": [
            "10/20/30/40\n"
          ]
        }
      ]
    },
    {
      "cell_type": "code",
      "source": [
        "no1, no2 ,no3, no4 = 10, 20, 30, 40\n",
        "print(no1, no2, no3, no4, sep=\",\")"
      ],
      "metadata": {
        "colab": {
          "base_uri": "https://localhost:8080/"
        },
        "id": "ZBjA5P5vlOV9",
        "outputId": "62b05dc4-9413-4b72-8aac-54561094c5c7"
      },
      "execution_count": 14,
      "outputs": [
        {
          "output_type": "stream",
          "name": "stdout",
          "text": [
            "10,20,30,40\n"
          ]
        }
      ]
    },
    {
      "cell_type": "code",
      "source": [
        "no1, no2 ,no3, no4 = 10, 20, 30, 40\n",
        "print(no1, no2, no3, no4, sep=\":n\")"
      ],
      "metadata": {
        "colab": {
          "base_uri": "https://localhost:8080/"
        },
        "id": "ppgN7MOBlSBA",
        "outputId": "33ab3cea-3180-437c-d1ac-f8f76230490b"
      },
      "execution_count": 15,
      "outputs": [
        {
          "output_type": "stream",
          "name": "stdout",
          "text": [
            "10:n20:n30:n40\n"
          ]
        }
      ]
    },
    {
      "cell_type": "code",
      "source": [
        "no1, no2 ,no3, no4 = 10, 20, 30, 40\n",
        "print(no1, no2, no3, no4, end=\"/\")"
      ],
      "metadata": {
        "colab": {
          "base_uri": "https://localhost:8080/"
        },
        "id": "2tt-NEAemkdf",
        "outputId": "f110ff64-37c9-4cfc-f580-77c38c80813e"
      },
      "execution_count": 16,
      "outputs": [
        {
          "output_type": "stream",
          "name": "stdout",
          "text": [
            "10 20 30 40/"
          ]
        }
      ]
    },
    {
      "cell_type": "code",
      "source": [
        "N = \"nikilgokila\"\n",
        "print(N , end=\"*\")"
      ],
      "metadata": {
        "colab": {
          "base_uri": "https://localhost:8080/"
        },
        "id": "v4Fl-YhXnGCV",
        "outputId": "72ce4d23-4b5e-4327-b539-a714024a481c"
      },
      "execution_count": 17,
      "outputs": [
        {
          "output_type": "stream",
          "name": "stdout",
          "text": [
            "nikilgokila*"
          ]
        }
      ]
    },
    {
      "cell_type": "code",
      "source": [
        "N = \"nikilgokila\"\n",
        "print(N , end=\"*&%\")"
      ],
      "metadata": {
        "colab": {
          "base_uri": "https://localhost:8080/"
        },
        "id": "RcNlLYWPn2TT",
        "outputId": "e66af2be-d1df-4643-ecf9-c5a28fa50159"
      },
      "execution_count": 19,
      "outputs": [
        {
          "output_type": "stream",
          "name": "stdout",
          "text": [
            "nikilgokila*&%"
          ]
        }
      ]
    },
    {
      "cell_type": "code",
      "source": [
        "#Formatted Strings:\n",
        "\n",
        "#%i, $d, %f, %s\n",
        "no1, no2, no3 = 10, 20, 30\n",
        "\n",
        "print(\"no1 value is\")\n"
      ],
      "metadata": {
        "colab": {
          "base_uri": "https://localhost:8080/"
        },
        "id": "1Io_zxiqn9Uh",
        "outputId": "a1b8ff2e-0b2b-4db2-9fca-8205752bf792"
      },
      "execution_count": 20,
      "outputs": [
        {
          "output_type": "stream",
          "name": "stdout",
          "text": [
            "no1 value is 10\n"
          ]
        }
      ]
    },
    {
      "cell_type": "code",
      "source": [
        "no1, no2, no3 = 10, 20, 30\n",
        "\n",
        "print(\"no2 value is\", no2)"
      ],
      "metadata": {
        "colab": {
          "base_uri": "https://localhost:8080/"
        },
        "id": "1B_59xsGpIl5",
        "outputId": "93de0132-d1fd-4346-ccec-66898d463ad7"
      },
      "execution_count": 22,
      "outputs": [
        {
          "output_type": "stream",
          "name": "stdout",
          "text": [
            "no2 value is 20\n"
          ]
        }
      ]
    },
    {
      "cell_type": "code",
      "source": [
        "no1, no2, no3 = 10, 20, 30\n",
        "\n",
        "print(\"no1 value %d\" %no1)"
      ],
      "metadata": {
        "colab": {
          "base_uri": "https://localhost:8080/"
        },
        "id": "UhPEPKEspU4f",
        "outputId": "db91b17e-2071-45ba-9c9d-4cce07da2de8"
      },
      "execution_count": 23,
      "outputs": [
        {
          "output_type": "stream",
          "name": "stdout",
          "text": [
            "no1 value 10\n"
          ]
        }
      ]
    },
    {
      "cell_type": "code",
      "source": [
        "no1, no2, no3 = 100, 49, 300\n",
        "print(\"no1 value %i\" %no2)"
      ],
      "metadata": {
        "colab": {
          "base_uri": "https://localhost:8080/"
        },
        "id": "f-3GR_Ijpy1Z",
        "outputId": "d0cd2b4c-7975-49cf-952c-476fad770326"
      },
      "execution_count": 27,
      "outputs": [
        {
          "output_type": "stream",
          "name": "stdout",
          "text": [
            "no1 value 49\n"
          ]
        }
      ]
    },
    {
      "cell_type": "code",
      "source": [
        "name = 'Gokila'\n",
        "print(\"Hi\", name)\n",
        "print(\"Hi %s\" %name)"
      ],
      "metadata": {
        "colab": {
          "base_uri": "https://localhost:8080/"
        },
        "id": "eyOg8WRvqCjG",
        "outputId": "eec93ba8-c20f-49f2-c873-e5137cbd6ed6"
      },
      "execution_count": 29,
      "outputs": [
        {
          "output_type": "stream",
          "name": "stdout",
          "text": [
            "Hi Gokila\n",
            "Hi Gokila\n"
          ]
        }
      ]
    },
    {
      "cell_type": "code",
      "source": [
        "value = 3.14\n",
        "print(\"value is %f\")       "
      ],
      "metadata": {
        "colab": {
          "base_uri": "https://localhost:8080/"
        },
        "id": "1806CQ4yqVV4",
        "outputId": "aa9bfe59-29fa-467b-a8df-67026a4f50ee"
      },
      "execution_count": 28,
      "outputs": [
        {
          "output_type": "stream",
          "name": "stdout",
          "text": [
            "value is %f\n"
          ]
        }
      ]
    },
    {
      "cell_type": "code",
      "source": [
        "name = 'Gokila'\n",
        "\n",
        "city = 'pno'\n",
        "\n",
        "AccNo = 234561\n",
        "\n",
        "print(\"Hi {0} your accno. is {1} and you are from {2}\". format(name, AccNo, city))\n",
        "\n",
        "print(\"Hi {a} your accno. is {b} and you are from {c}\". format(a = name, b = AccNo, c = city))"
      ],
      "metadata": {
        "colab": {
          "base_uri": "https://localhost:8080/"
        },
        "id": "08tXTfn6rqZ6",
        "outputId": "6a924fbd-6362-4067-a4ad-0afd9d17917f"
      },
      "execution_count": 34,
      "outputs": [
        {
          "output_type": "stream",
          "name": "stdout",
          "text": [
            "Hi Gokila your accno. is 234561 and you are from pno\n",
            "Hi Gokila your accno. is 234561 and you are from pno\n"
          ]
        }
      ]
    },
    {
      "cell_type": "code",
      "source": [
        "print(\"Hi {} your accno. is {} and you are from {}\". format(name, AccNo, city))\n"
      ],
      "metadata": {
        "colab": {
          "base_uri": "https://localhost:8080/"
        },
        "id": "gxzOxNBX2bHH",
        "outputId": "24af404b-c99e-487f-ee47-f7677bb4a6a6"
      },
      "execution_count": 38,
      "outputs": [
        {
          "output_type": "stream",
          "name": "stdout",
          "text": [
            "Hi Gokila your accno. is 234561 and you are from pno\n"
          ]
        }
      ]
    },
    {
      "cell_type": "code",
      "source": [
        "# place holder {}\n",
        "\n",
        "# >90  A+    80>  A   70> B+   60> B  <60 C\n",
        "\n",
        "mark = int(input('Enter mark:'))\n",
        "if mark>=90:\n",
        "  print(\"A+\")\n",
        "elif mark>=80:\n",
        "  print(\"A\")\n",
        "elif mark>=70:\n",
        "  print(\"B+\")\n",
        "elif mark>=60:\n",
        "  print(\"B\")\n",
        "else:\n",
        "  print(\"C\")\n"
      ],
      "metadata": {
        "colab": {
          "base_uri": "https://localhost:8080/"
        },
        "id": "al-qmjGm1hMb",
        "outputId": "95935dde-7dbe-4a33-f2f1-abd555cd70cf"
      },
      "execution_count": 39,
      "outputs": [
        {
          "output_type": "stream",
          "name": "stdout",
          "text": [
            "Enter mark:54\n",
            "C\n"
          ]
        }
      ]
    }
  ]
}